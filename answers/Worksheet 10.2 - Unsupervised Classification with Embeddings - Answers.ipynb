{
 "cells": [
  {
   "metadata": {},
   "cell_type": "markdown",
   "source": [
    "# Unsupervised Classification with Embeddings\n",
    "In this lab, we will be working on the following use case:  You run your company's IT and want to make sure that your employees are not signing up for unauthorized services and creating shadow IT.  To do so, we will be building a model to idenfity account verification emails sent to company email addresses.\n",
    "\n",
    "## Finding SaaS Applications\n",
    "The basic approach is that we're going to look at the subjects of emails and compare that subject with the subject(s) of common account operations.  This initial approach starts with email verification emails, but could be expanded to other common SaaS operations such as 2FA, account creation, etc.\n",
    "\n",
    "First, let's read in the data.  As with other labs, this lab uses the `DATA_PATH` variable so if you moved the data anywhere outside of the repository, you will need to modify the `DATA_PATH` variable.  The dataset we will be using for this exercise is in the file `clean_email.csv` which contains approximately 140k email metadata events."
   ],
   "id": "c5d92648ec2423b8"
  },
  {
   "metadata": {
    "ExecuteTime": {
     "end_time": "2025-07-17T01:06:47.581677Z",
     "start_time": "2025-07-17T01:06:47.579386Z"
    }
   },
   "cell_type": "code",
   "source": [
    "import pandas as pd\n",
    "import numpy as np\n",
    "from sentence_transformers import SentenceTransformer\n",
    "from sklearn.metrics.pairwise import cosine_similarity\n",
    "\n",
    "# These two lines should only be used on a Mac with Apple Silicon.  If you have a GPU, you can use that as well.\n",
    "import torch\n",
    "device = torch.device(\"mps\" if torch.backends.mps.is_available() else \"cpu\")\n",
    "\n",
    "\n",
    "DATA_PATH = '../data'\n",
    "\n",
    "# You'll need to define a verification message which we will use to compare all the other subjects to.\n",
    "VERIFICATION_TEXT = \"please verify your email\"\n"
   ],
   "id": "30767b678990aa04",
   "outputs": [],
   "execution_count": 21
  },
  {
   "metadata": {},
   "cell_type": "markdown",
   "source": [
    "### The Data\n",
    "Let's read in the data and do some EDA."
   ],
   "id": "d01417a460c58855"
  },
  {
   "metadata": {
    "ExecuteTime": {
     "end_time": "2025-07-17T01:20:54.292196Z",
     "start_time": "2025-07-17T01:20:53.796138Z"
    }
   },
   "cell_type": "code",
   "source": "email_data = pd.read_csv(f\"{DATA_PATH}/clean_email.csv\")",
   "id": "995ead4d2640785d",
   "outputs": [],
   "execution_count": 53
  },
  {
   "metadata": {
    "ExecuteTime": {
     "end_time": "2025-07-17T01:20:57.308170Z",
     "start_time": "2025-07-17T01:20:57.298514Z"
    }
   },
   "cell_type": "code",
   "source": "email_data.sample(5)",
   "id": "f72e5653b85a2127",
   "outputs": [
    {
     "data": {
      "text/plain": [
       "                       date         to_email to_email_account  \\\n",
       "137882  2020-09-12 23:56:53  user1@gmail.com            user1   \n",
       "74182   2017-05-02 09:00:23  user1@gmail.com            user1   \n",
       "38219   2020-10-16 11:37:36  user1@gmail.com            user1   \n",
       "116501  2021-08-19 15:08:30  user1@gmail.com            user1   \n",
       "50637   2019-08-08 18:52:32  user1@gmail.com            user1   \n",
       "\n",
       "       to_email_complete_domain                        from_email  \\\n",
       "137882                gmail.com         premium@academia-mail.com   \n",
       "74182                 gmail.com         spicejet@web-spicejet.com   \n",
       "38219                 gmail.com  AmericanExpress@welcome.aexp.com   \n",
       "116501                gmail.com  AmericanExpress@welcome.aexp.com   \n",
       "50637                 gmail.com               ebay@reply.ebay.com   \n",
       "\n",
       "                from_name from_email_account from_email_complete_domain  \\\n",
       "137882    \"Academia.edu\"             premium          academia-mail.com   \n",
       "74182           SpiceJet            spicejet           web-spicejet.com   \n",
       "38219   American Express     AmericanExpress           welcome.aexp.com   \n",
       "116501  American Express     AmericanExpress           welcome.aexp.com   \n",
       "50637               eBay                ebay             reply.ebay.com   \n",
       "\n",
       "       from_email_domain from_email_subdomain from_email_suffix  \\\n",
       "137882     academia-mail                  NaN               com   \n",
       "74182       web-spicejet                  NaN               com   \n",
       "38219               aexp              welcome               com   \n",
       "116501              aexp              welcome               com   \n",
       "50637               ebay                reply               com   \n",
       "\n",
       "                                                  subject  \n",
       "137882                 12 Hours Left, Get 50% Off Premium  \n",
       "74182   Flat 8% discount on flights between Delhi and ...  \n",
       "38219                 Here’s your weekly account snapshot  \n",
       "116501  Your Card may not have been present for a purc...  \n",
       "50637                         We thought you'd like this!  "
      ],
      "text/html": [
       "<div>\n",
       "<style scoped>\n",
       "    .dataframe tbody tr th:only-of-type {\n",
       "        vertical-align: middle;\n",
       "    }\n",
       "\n",
       "    .dataframe tbody tr th {\n",
       "        vertical-align: top;\n",
       "    }\n",
       "\n",
       "    .dataframe thead th {\n",
       "        text-align: right;\n",
       "    }\n",
       "</style>\n",
       "<table border=\"1\" class=\"dataframe\">\n",
       "  <thead>\n",
       "    <tr style=\"text-align: right;\">\n",
       "      <th></th>\n",
       "      <th>date</th>\n",
       "      <th>to_email</th>\n",
       "      <th>to_email_account</th>\n",
       "      <th>to_email_complete_domain</th>\n",
       "      <th>from_email</th>\n",
       "      <th>from_name</th>\n",
       "      <th>from_email_account</th>\n",
       "      <th>from_email_complete_domain</th>\n",
       "      <th>from_email_domain</th>\n",
       "      <th>from_email_subdomain</th>\n",
       "      <th>from_email_suffix</th>\n",
       "      <th>subject</th>\n",
       "    </tr>\n",
       "  </thead>\n",
       "  <tbody>\n",
       "    <tr>\n",
       "      <th>137882</th>\n",
       "      <td>2020-09-12 23:56:53</td>\n",
       "      <td>user1@gmail.com</td>\n",
       "      <td>user1</td>\n",
       "      <td>gmail.com</td>\n",
       "      <td>premium@academia-mail.com</td>\n",
       "      <td>\"Academia.edu\"</td>\n",
       "      <td>premium</td>\n",
       "      <td>academia-mail.com</td>\n",
       "      <td>academia-mail</td>\n",
       "      <td>NaN</td>\n",
       "      <td>com</td>\n",
       "      <td>12 Hours Left, Get 50% Off Premium</td>\n",
       "    </tr>\n",
       "    <tr>\n",
       "      <th>74182</th>\n",
       "      <td>2017-05-02 09:00:23</td>\n",
       "      <td>user1@gmail.com</td>\n",
       "      <td>user1</td>\n",
       "      <td>gmail.com</td>\n",
       "      <td>spicejet@web-spicejet.com</td>\n",
       "      <td>SpiceJet</td>\n",
       "      <td>spicejet</td>\n",
       "      <td>web-spicejet.com</td>\n",
       "      <td>web-spicejet</td>\n",
       "      <td>NaN</td>\n",
       "      <td>com</td>\n",
       "      <td>Flat 8% discount on flights between Delhi and ...</td>\n",
       "    </tr>\n",
       "    <tr>\n",
       "      <th>38219</th>\n",
       "      <td>2020-10-16 11:37:36</td>\n",
       "      <td>user1@gmail.com</td>\n",
       "      <td>user1</td>\n",
       "      <td>gmail.com</td>\n",
       "      <td>AmericanExpress@welcome.aexp.com</td>\n",
       "      <td>American Express</td>\n",
       "      <td>AmericanExpress</td>\n",
       "      <td>welcome.aexp.com</td>\n",
       "      <td>aexp</td>\n",
       "      <td>welcome</td>\n",
       "      <td>com</td>\n",
       "      <td>Here’s your weekly account snapshot</td>\n",
       "    </tr>\n",
       "    <tr>\n",
       "      <th>116501</th>\n",
       "      <td>2021-08-19 15:08:30</td>\n",
       "      <td>user1@gmail.com</td>\n",
       "      <td>user1</td>\n",
       "      <td>gmail.com</td>\n",
       "      <td>AmericanExpress@welcome.aexp.com</td>\n",
       "      <td>American Express</td>\n",
       "      <td>AmericanExpress</td>\n",
       "      <td>welcome.aexp.com</td>\n",
       "      <td>aexp</td>\n",
       "      <td>welcome</td>\n",
       "      <td>com</td>\n",
       "      <td>Your Card may not have been present for a purc...</td>\n",
       "    </tr>\n",
       "    <tr>\n",
       "      <th>50637</th>\n",
       "      <td>2019-08-08 18:52:32</td>\n",
       "      <td>user1@gmail.com</td>\n",
       "      <td>user1</td>\n",
       "      <td>gmail.com</td>\n",
       "      <td>ebay@reply.ebay.com</td>\n",
       "      <td>eBay</td>\n",
       "      <td>ebay</td>\n",
       "      <td>reply.ebay.com</td>\n",
       "      <td>ebay</td>\n",
       "      <td>reply</td>\n",
       "      <td>com</td>\n",
       "      <td>We thought you'd like this!</td>\n",
       "    </tr>\n",
       "  </tbody>\n",
       "</table>\n",
       "</div>"
      ]
     },
     "execution_count": 54,
     "metadata": {},
     "output_type": "execute_result"
    }
   ],
   "execution_count": 54
  },
  {
   "metadata": {},
   "cell_type": "markdown",
   "source": "You should do some exploratory data analysis here to make sure that all the fields you need are populated.",
   "id": "1ee12766b1fa5706"
  },
  {
   "metadata": {
    "ExecuteTime": {
     "end_time": "2025-07-17T01:21:01.380628Z",
     "start_time": "2025-07-17T01:21:01.377451Z"
    }
   },
   "cell_type": "code",
   "source": [
    "def cleanup_subject(subject: str) -> str:\n",
    "    # Remove newlines\n",
    "    subject = subject.replace('\\n', ' ')\n",
    "\n",
    "    # Remove leading and trailing whitespace\n",
    "    subject = subject.strip()\n",
    "\n",
    "    # Convert to lowercase\n",
    "    subject = subject.lower()\n",
    "    return subject\n"
   ],
   "id": "22c3fcb808b0ab7a",
   "outputs": [],
   "execution_count": 55
  },
  {
   "metadata": {
    "ExecuteTime": {
     "end_time": "2025-07-17T01:21:02.586677Z",
     "start_time": "2025-07-17T01:21:02.530233Z"
    }
   },
   "cell_type": "code",
   "source": [
    "# Drop rows with an empty subject\n",
    "email_data.dropna(subset=['subject'], inplace=True)\n",
    "\n",
    "# Clean up the subject\n",
    "email_data['subject'] = email_data['subject'].apply(cleanup_subject)"
   ],
   "id": "7eedb17158ec6993",
   "outputs": [],
   "execution_count": 56
  },
  {
   "metadata": {},
   "cell_type": "markdown",
   "source": [
    "## Step One:  Generate Embeddings\n",
    "After exploring and cleaning our data, we'll need to compute embeddings for the subject lines of the emails.  You can use a similar method as we did in previous labs OR you can use a library which I really like called `fasttext`.  In the answer notebook, you will see both methods, but the basic idea is the same.  You can use the same embedding model we used in the previous lab to generate the embeddings.\n",
    "\n",
    "**This step will take several minutes to complete.**"
   ],
   "id": "aafac421a701cc0c"
  },
  {
   "metadata": {
    "ExecuteTime": {
     "end_time": "2025-07-17T01:33:46.388150Z",
     "start_time": "2025-07-17T01:21:09.556168Z"
    }
   },
   "cell_type": "code",
   "source": [
    "# Load embedding model\n",
    "model = SentenceTransformer('paraphrase-MiniLM-L6-v2', device=device)\n",
    "# Generate embeddings\n",
    "email_data['embedding'] = email_data['subject'].apply(lambda x: model.encode(x).tolist())"
   ],
   "id": "d2fd793e412e77f5",
   "outputs": [],
   "execution_count": 57
  },
  {
   "metadata": {
    "ExecuteTime": {
     "end_time": "2025-07-17T01:36:45.979945Z",
     "start_time": "2025-07-17T01:36:45.909366Z"
    }
   },
   "cell_type": "code",
   "source": [
    "# You should also create embeddings for the verification text\n",
    "# You will need to reshape it so that we can compute the cosine_similarity.  Use the reshape(1, -1)\n",
    "VERIFICATION_EMBEDDING = np.array(model.encode(VERIFICATION_TEXT)).reshape(1, -1)"
   ],
   "id": "5f22a9af7962cbbd",
   "outputs": [],
   "execution_count": 58
  },
  {
   "metadata": {},
   "cell_type": "markdown",
   "source": [
    "## Step Two: Comparing the Embeddings\n",
    "What we will need to do her is create a verification text, something like `Please Verify your Email Address` and then we will use cosine similiarity to compare the embeddings for the verification text and the email subjects.\n",
    "\n",
    "### Calculate the Cosine Similiarity\n",
    "\n",
    "Next, we calculate the cosine similarity between the template text and the email subject.  We have to do some data cleanup as well.  For the cleanup we:\n",
    "1. Convert the inputs to strings\n",
    "2. Remove leading/trailing whitespaces\n",
    "3. Replace any newlines with spaces\n",
    "4. Convert to lower case\n",
    "\n",
    "Once we have done that, we'll use the model to get a vector of the sentence and use cosine similiarity to compute the distance between the template text and the email subject.\n",
    "\n",
    "You will have to reshape the lists using the `reshape(1,-1)` function in numpy.  To do this, you'll probably have to convert the series to a NumPy array as shown below:\n",
    "\n",
    "```python\n",
    "np.array(embedding).reshape(1, -1)\n",
    "```\n",
    "\n",
    "You can calculate the cosine similarity by using the `cosine_similarity(a1, a2)` that we imported at the beginning of the lab.  `a1` and `a2` need to be list-like data structures.  Be sure to save these scores in the dataframe."
   ],
   "id": "9f1f2dee6eb87806"
  },
  {
   "metadata": {
    "ExecuteTime": {
     "end_time": "2025-07-17T01:39:04.455720Z",
     "start_time": "2025-07-17T01:38:47.215703Z"
    }
   },
   "cell_type": "code",
   "source": [
    "def text_similarity(embedding) -> float:\n",
    "    return cosine_similarity(np.array(embedding).reshape(1, -1), VERIFICATION_EMBEDDING)[0][0]\n",
    "\n",
    "email_data['similarity_score'] = email_data['embedding'].apply(text_similarity)"
   ],
   "id": "6b4cd13cd1fd2dcc",
   "outputs": [],
   "execution_count": 64
  },
  {
   "metadata": {},
   "cell_type": "markdown",
   "source": [
    "## Step Three:  Finding the Accounts.\n",
    "Now that we have the similarity scores, we can look at the results to find candidate emails.  The closer the similarity score is to 1, the more likely the email is a match. You will have to decide what similarity threshold you want to use to detect these emails.  Experiment with the similarity score to see what threshold works best for our use case.\n",
    "\n",
    "Your task here is to find the emails, then extract the unique sender domains to find out which unauthorized accounts have been created."
   ],
   "id": "a156f92e735e3bdd"
  },
  {
   "metadata": {
    "ExecuteTime": {
     "end_time": "2025-07-17T15:24:55.868319Z",
     "start_time": "2025-07-17T15:24:55.863849Z"
    }
   },
   "cell_type": "code",
   "source": "email_data[email_data['similarity_score'] >= 0.68][['from_email_complete_domain', 'subject']]",
   "id": "494c3d322106346c",
   "outputs": [
    {
     "data": {
      "text/plain": [
       "       from_email_complete_domain  \\\n",
       "307                  lyftmail.com   \n",
       "2496           alerts.comcast.net   \n",
       "2538           alerts.comcast.net   \n",
       "2607           alerts.comcast.net   \n",
       "4987                 hightail.com   \n",
       "...                           ...   \n",
       "135855         alerts.comcast.net   \n",
       "137511              equityzen.com   \n",
       "137544              equityzen.com   \n",
       "139441               lyftmail.com   \n",
       "146419           transferwise.com   \n",
       "\n",
       "                                                subject  \n",
       "307                                  confirm your email  \n",
       "2496        important: please verify your email address  \n",
       "2538        important: please verify your email address  \n",
       "2607        important: please verify your email address  \n",
       "4987                    please verify your email change  \n",
       "...                                                 ...  \n",
       "135855      important: please verify your email address  \n",
       "137511  please verify your email address to get started  \n",
       "137544       reminder: please verify your email address  \n",
       "139441                               confirm your email  \n",
       "146419                       confirm your email address  \n",
       "\n",
       "[75 rows x 2 columns]"
      ],
      "text/html": [
       "<div>\n",
       "<style scoped>\n",
       "    .dataframe tbody tr th:only-of-type {\n",
       "        vertical-align: middle;\n",
       "    }\n",
       "\n",
       "    .dataframe tbody tr th {\n",
       "        vertical-align: top;\n",
       "    }\n",
       "\n",
       "    .dataframe thead th {\n",
       "        text-align: right;\n",
       "    }\n",
       "</style>\n",
       "<table border=\"1\" class=\"dataframe\">\n",
       "  <thead>\n",
       "    <tr style=\"text-align: right;\">\n",
       "      <th></th>\n",
       "      <th>from_email_complete_domain</th>\n",
       "      <th>subject</th>\n",
       "    </tr>\n",
       "  </thead>\n",
       "  <tbody>\n",
       "    <tr>\n",
       "      <th>307</th>\n",
       "      <td>lyftmail.com</td>\n",
       "      <td>confirm your email</td>\n",
       "    </tr>\n",
       "    <tr>\n",
       "      <th>2496</th>\n",
       "      <td>alerts.comcast.net</td>\n",
       "      <td>important: please verify your email address</td>\n",
       "    </tr>\n",
       "    <tr>\n",
       "      <th>2538</th>\n",
       "      <td>alerts.comcast.net</td>\n",
       "      <td>important: please verify your email address</td>\n",
       "    </tr>\n",
       "    <tr>\n",
       "      <th>2607</th>\n",
       "      <td>alerts.comcast.net</td>\n",
       "      <td>important: please verify your email address</td>\n",
       "    </tr>\n",
       "    <tr>\n",
       "      <th>4987</th>\n",
       "      <td>hightail.com</td>\n",
       "      <td>please verify your email change</td>\n",
       "    </tr>\n",
       "    <tr>\n",
       "      <th>...</th>\n",
       "      <td>...</td>\n",
       "      <td>...</td>\n",
       "    </tr>\n",
       "    <tr>\n",
       "      <th>135855</th>\n",
       "      <td>alerts.comcast.net</td>\n",
       "      <td>important: please verify your email address</td>\n",
       "    </tr>\n",
       "    <tr>\n",
       "      <th>137511</th>\n",
       "      <td>equityzen.com</td>\n",
       "      <td>please verify your email address to get started</td>\n",
       "    </tr>\n",
       "    <tr>\n",
       "      <th>137544</th>\n",
       "      <td>equityzen.com</td>\n",
       "      <td>reminder: please verify your email address</td>\n",
       "    </tr>\n",
       "    <tr>\n",
       "      <th>139441</th>\n",
       "      <td>lyftmail.com</td>\n",
       "      <td>confirm your email</td>\n",
       "    </tr>\n",
       "    <tr>\n",
       "      <th>146419</th>\n",
       "      <td>transferwise.com</td>\n",
       "      <td>confirm your email address</td>\n",
       "    </tr>\n",
       "  </tbody>\n",
       "</table>\n",
       "<p>75 rows × 2 columns</p>\n",
       "</div>"
      ]
     },
     "execution_count": 103,
     "metadata": {},
     "output_type": "execute_result"
    }
   ],
   "execution_count": 103
  },
  {
   "metadata": {
    "ExecuteTime": {
     "end_time": "2025-07-17T15:25:15.817722Z",
     "start_time": "2025-07-17T15:25:15.811019Z"
    }
   },
   "cell_type": "code",
   "source": "email_data[email_data['similarity_score'] >= 0.68][['from_email_complete_domain']].value_counts()",
   "id": "e8121d9035fa2e1f",
   "outputs": [
    {
     "data": {
      "text/plain": [
       "from_email_complete_domain\n",
       "lyftmail.com                  9\n",
       "alerts.comcast.net            4\n",
       "hello.soundcloud.com          4\n",
       "microsoft.onmicrosoft.com     3\n",
       "ahs.com                       3\n",
       "equityzen.com                 3\n",
       "service.discover.com          2\n",
       "mail.etsy.com                 2\n",
       "godaddy.com                   2\n",
       "mail15.creditkarma.com        2\n",
       "mail.offeredby.com            2\n",
       "service.lovense.com           2\n",
       "studiolab.sagemaker.aws       2\n",
       "welcome.aexp.com              2\n",
       "service.hbomax.com            1\n",
       "republic.co                   1\n",
       "transferwise.com              1\n",
       "trekbikes.com                 1\n",
       "remarkable.com                1\n",
       "redfin.com                    1\n",
       "notifications.skiff.org       1\n",
       "news.sedo.com                 1\n",
       "trip.com                      1\n",
       "mail7.creditkarma.com         1\n",
       "mail19.creditkarma.com        1\n",
       "mail17.creditkarma.com        1\n",
       "revolut.com                   1\n",
       "above.com                     1\n",
       "mail.instagram.com            1\n",
       "emaildl.att-mail.com          1\n",
       "account.pinterest.com         1\n",
       "affirm.com                    1\n",
       "auction.com                   1\n",
       "better.com                    1\n",
       "budgetair.com                 1\n",
       "clickandboat.com              1\n",
       "coinbase.com                  1\n",
       "exploretock.com               1\n",
       "account.evernote.com          1\n",
       "gmail.com                     1\n",
       "hightail.com                  1\n",
       "indiamart.com                 1\n",
       "info6.citi.com                1\n",
       "instacart.com                 1\n",
       "joinautopilot.com             1\n",
       "login.gov                     1\n",
       "wifi.pro                      1\n",
       "Name: count, dtype: int64"
      ]
     },
     "execution_count": 105,
     "metadata": {},
     "output_type": "execute_result"
    }
   ],
   "execution_count": 105
  },
  {
   "metadata": {},
   "cell_type": "code",
   "outputs": [],
   "execution_count": null,
   "source": "",
   "id": "299cb3f2a1c2423d"
  }
 ],
 "metadata": {
  "kernelspec": {
   "display_name": "Python [conda env:base] *",
   "language": "python",
   "name": "conda-base-py"
  },
  "language_info": {
   "codemirror_mode": {
    "name": "ipython",
    "version": 2
   },
   "file_extension": ".py",
   "mimetype": "text/x-python",
   "name": "python",
   "nbconvert_exporter": "python",
   "pygments_lexer": "ipython2",
   "version": "2.7.6"
  }
 },
 "nbformat": 4,
 "nbformat_minor": 5
}
