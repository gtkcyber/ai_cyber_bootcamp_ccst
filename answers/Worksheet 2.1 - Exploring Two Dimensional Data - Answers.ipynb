{
 "cells": [
  {
   "cell_type": "markdown",
   "metadata": {},
   "source": [
    "<img src=\"../img/GTK_Logo_Social Icon.jpg\" width=175 align=\"right\" />\n",
    "\n",
    "# Worksheet 2.1:  Exploring Two Dimensional Data -  Answers\n",
    "This worksheet covers concepts covered in Module 2 - Exploratory Data Analysis in Two Dimensions.  It should take no more than 20-30 minutes to complete.  Please raise your hand if you get stuck.  \n",
    "\n",
    "There are many ways to accomplish the tasks that you are presented with, however you will find that by using the techniques covered in class, the exercises should be relatively simple. \n",
    "\n",
    "## Import the Libraries\n",
    "For this exercise, we will be using:\n",
    "* Pandas (http://pandas.pydata.org/pandas-docs/stable/)\n",
    "* json (https://docs.python.org/3/library/json.html)\n",
    "* apachelogs (https://pypi.org/project/apachelogs/)\n",
    "* user-agents (https://pypi.python.org/pypi/user-agents)"
   ]
  },
  {
   "cell_type": "code",
   "metadata": {
    "ExecuteTime": {
     "end_time": "2025-07-29T12:36:53.201954Z",
     "start_time": "2025-07-29T12:36:50.065852Z"
    }
   },
   "source": [
    "import pandas as pd\n",
    "import json"
   ],
   "outputs": [],
   "execution_count": 1
  },
  {
   "cell_type": "markdown",
   "metadata": {},
   "source": [
    "## Exercise 2.1: Reading various forms of JSON Data\n",
    "In the `/data/` folder, you will find a series of `.json` files called `dataN.json`, numbered 1-4.  Each file contains the following data:\n",
    "\n",
    "<table>\n",
    "    <tr>\n",
    "        <th></th>\n",
    "        <th>birthday</th>\n",
    "        <th>first_name</th>\n",
    "        <th>last_name</th>\n",
    "    </tr>\n",
    "    <tr>\n",
    "        <td>0</td>\n",
    "        <td>5\\/3\\/67</td>\n",
    "        <td>Robert</td>\n",
    "        <td>Hernandez</td>\n",
    "    </tr>\n",
    "    <tr>\n",
    "        <td>1</td>\n",
    "        <td>8\\/4\\/84</td>\n",
    "        <td>Steve</td>\n",
    "        <td>Smith</td>\n",
    "    </tr>\n",
    "    <tr>\n",
    "        <td>2</td>\n",
    "        <td>9\\/13\\/91</td>\n",
    "        <td>Anne</td>\n",
    "        <td>Raps</td>\n",
    "    </tr>    \n",
    "    <tr>\n",
    "        <td>3</td>\n",
    "        <td>4\\/15\\/75</td>\n",
    "        <td>Alice</td>\n",
    "        <td>Muller</td>\n",
    "    </tr>    \n",
    "</table>\n",
    "\n",
    "Using the `.read_json()` function and the various configuration options, read all these files into a dataframe.  The documentation is available here: http://pandas.pydata.org/pandas-docs/stable/generated/pandas.read_json.html."
   ]
  },
  {
   "cell_type": "code",
   "metadata": {
    "ExecuteTime": {
     "end_time": "2025-07-29T12:41:20.692016Z",
     "start_time": "2025-07-29T12:41:20.678017Z"
    }
   },
   "source": [
    "DATA_HOME = '../data/'\n",
    "df1 = pd.read_json(DATA_HOME + 'data1.json')\n",
    "df1"
   ],
   "outputs": [
    {
     "data": {
      "text/plain": [
       "  first_name  last_name   birthday\n",
       "0     Robert  Hernandez   5\\/3\\/67\n",
       "1      Steve      Smith   8\\/4\\/84\n",
       "2       Anne       Raps  9\\/13\\/91\n",
       "3      Alice     Muller  4\\/15\\/75"
      ],
      "text/html": [
       "<div>\n",
       "<style scoped>\n",
       "    .dataframe tbody tr th:only-of-type {\n",
       "        vertical-align: middle;\n",
       "    }\n",
       "\n",
       "    .dataframe tbody tr th {\n",
       "        vertical-align: top;\n",
       "    }\n",
       "\n",
       "    .dataframe thead th {\n",
       "        text-align: right;\n",
       "    }\n",
       "</style>\n",
       "<table border=\"1\" class=\"dataframe\">\n",
       "  <thead>\n",
       "    <tr style=\"text-align: right;\">\n",
       "      <th></th>\n",
       "      <th>first_name</th>\n",
       "      <th>last_name</th>\n",
       "      <th>birthday</th>\n",
       "    </tr>\n",
       "  </thead>\n",
       "  <tbody>\n",
       "    <tr>\n",
       "      <th>0</th>\n",
       "      <td>Robert</td>\n",
       "      <td>Hernandez</td>\n",
       "      <td>5\\/3\\/67</td>\n",
       "    </tr>\n",
       "    <tr>\n",
       "      <th>1</th>\n",
       "      <td>Steve</td>\n",
       "      <td>Smith</td>\n",
       "      <td>8\\/4\\/84</td>\n",
       "    </tr>\n",
       "    <tr>\n",
       "      <th>2</th>\n",
       "      <td>Anne</td>\n",
       "      <td>Raps</td>\n",
       "      <td>9\\/13\\/91</td>\n",
       "    </tr>\n",
       "    <tr>\n",
       "      <th>3</th>\n",
       "      <td>Alice</td>\n",
       "      <td>Muller</td>\n",
       "      <td>4\\/15\\/75</td>\n",
       "    </tr>\n",
       "  </tbody>\n",
       "</table>\n",
       "</div>"
      ]
     },
     "execution_count": 3,
     "metadata": {},
     "output_type": "execute_result"
    }
   ],
   "execution_count": 3
  },
  {
   "cell_type": "code",
   "metadata": {
    "ExecuteTime": {
     "end_time": "2025-07-29T12:43:28.932090Z",
     "start_time": "2025-07-29T12:43:28.920514Z"
    }
   },
   "source": [
    "df2 = pd.read_json(DATA_HOME + 'data2.json', orient='index')\n",
    "df2"
   ],
   "outputs": [
    {
     "data": {
      "text/plain": [
       "  first_name  last_name   birthday\n",
       "0     Robert  Hernandez   5\\/3\\/67\n",
       "1      Steve      Smith   8\\/4\\/84\n",
       "2       Anne       Raps  9\\/13\\/91\n",
       "3      Alice     Muller  4\\/15\\/75"
      ],
      "text/html": [
       "<div>\n",
       "<style scoped>\n",
       "    .dataframe tbody tr th:only-of-type {\n",
       "        vertical-align: middle;\n",
       "    }\n",
       "\n",
       "    .dataframe tbody tr th {\n",
       "        vertical-align: top;\n",
       "    }\n",
       "\n",
       "    .dataframe thead th {\n",
       "        text-align: right;\n",
       "    }\n",
       "</style>\n",
       "<table border=\"1\" class=\"dataframe\">\n",
       "  <thead>\n",
       "    <tr style=\"text-align: right;\">\n",
       "      <th></th>\n",
       "      <th>first_name</th>\n",
       "      <th>last_name</th>\n",
       "      <th>birthday</th>\n",
       "    </tr>\n",
       "  </thead>\n",
       "  <tbody>\n",
       "    <tr>\n",
       "      <th>0</th>\n",
       "      <td>Robert</td>\n",
       "      <td>Hernandez</td>\n",
       "      <td>5\\/3\\/67</td>\n",
       "    </tr>\n",
       "    <tr>\n",
       "      <th>1</th>\n",
       "      <td>Steve</td>\n",
       "      <td>Smith</td>\n",
       "      <td>8\\/4\\/84</td>\n",
       "    </tr>\n",
       "    <tr>\n",
       "      <th>2</th>\n",
       "      <td>Anne</td>\n",
       "      <td>Raps</td>\n",
       "      <td>9\\/13\\/91</td>\n",
       "    </tr>\n",
       "    <tr>\n",
       "      <th>3</th>\n",
       "      <td>Alice</td>\n",
       "      <td>Muller</td>\n",
       "      <td>4\\/15\\/75</td>\n",
       "    </tr>\n",
       "  </tbody>\n",
       "</table>\n",
       "</div>"
      ]
     },
     "execution_count": 8,
     "metadata": {},
     "output_type": "execute_result"
    }
   ],
   "execution_count": 8
  },
  {
   "cell_type": "code",
   "metadata": {
    "ExecuteTime": {
     "end_time": "2025-07-29T12:43:49.693681Z",
     "start_time": "2025-07-29T12:43:49.683763Z"
    }
   },
   "source": [
    "df3 = pd.read_json(DATA_HOME + 'data3.json')\n",
    "df3"
   ],
   "outputs": [
    {
     "data": {
      "text/plain": [
       "  first_name  last_name   birthday\n",
       "0     Robert  Hernandez   5\\/3\\/67\n",
       "1      Steve      Smith   8\\/4\\/84\n",
       "2       Anne       Raps  9\\/13\\/91\n",
       "3      Alice     Muller  4\\/15\\/75"
      ],
      "text/html": [
       "<div>\n",
       "<style scoped>\n",
       "    .dataframe tbody tr th:only-of-type {\n",
       "        vertical-align: middle;\n",
       "    }\n",
       "\n",
       "    .dataframe tbody tr th {\n",
       "        vertical-align: top;\n",
       "    }\n",
       "\n",
       "    .dataframe thead th {\n",
       "        text-align: right;\n",
       "    }\n",
       "</style>\n",
       "<table border=\"1\" class=\"dataframe\">\n",
       "  <thead>\n",
       "    <tr style=\"text-align: right;\">\n",
       "      <th></th>\n",
       "      <th>first_name</th>\n",
       "      <th>last_name</th>\n",
       "      <th>birthday</th>\n",
       "    </tr>\n",
       "  </thead>\n",
       "  <tbody>\n",
       "    <tr>\n",
       "      <th>0</th>\n",
       "      <td>Robert</td>\n",
       "      <td>Hernandez</td>\n",
       "      <td>5\\/3\\/67</td>\n",
       "    </tr>\n",
       "    <tr>\n",
       "      <th>1</th>\n",
       "      <td>Steve</td>\n",
       "      <td>Smith</td>\n",
       "      <td>8\\/4\\/84</td>\n",
       "    </tr>\n",
       "    <tr>\n",
       "      <th>2</th>\n",
       "      <td>Anne</td>\n",
       "      <td>Raps</td>\n",
       "      <td>9\\/13\\/91</td>\n",
       "    </tr>\n",
       "    <tr>\n",
       "      <th>3</th>\n",
       "      <td>Alice</td>\n",
       "      <td>Muller</td>\n",
       "      <td>4\\/15\\/75</td>\n",
       "    </tr>\n",
       "  </tbody>\n",
       "</table>\n",
       "</div>"
      ]
     },
     "execution_count": 9,
     "metadata": {},
     "output_type": "execute_result"
    }
   ],
   "execution_count": 9
  },
  {
   "cell_type": "code",
   "metadata": {
    "ExecuteTime": {
     "end_time": "2025-07-29T12:44:08.649237Z",
     "start_time": "2025-07-29T12:44:08.637598Z"
    }
   },
   "source": [
    "df4 = pd.read_json(DATA_HOME + 'data4.json', orient='split')\n",
    "df4"
   ],
   "outputs": [
    {
     "data": {
      "text/plain": [
       "  first_name  last_name   birthday\n",
       "0     Robert  Hernandez   5\\/3\\/67\n",
       "1      Steve      Smith   8\\/4\\/84\n",
       "2       Anne       Raps  9\\/13\\/91\n",
       "3      Alice     Muller  4\\/15\\/75"
      ],
      "text/html": [
       "<div>\n",
       "<style scoped>\n",
       "    .dataframe tbody tr th:only-of-type {\n",
       "        vertical-align: middle;\n",
       "    }\n",
       "\n",
       "    .dataframe tbody tr th {\n",
       "        vertical-align: top;\n",
       "    }\n",
       "\n",
       "    .dataframe thead th {\n",
       "        text-align: right;\n",
       "    }\n",
       "</style>\n",
       "<table border=\"1\" class=\"dataframe\">\n",
       "  <thead>\n",
       "    <tr style=\"text-align: right;\">\n",
       "      <th></th>\n",
       "      <th>first_name</th>\n",
       "      <th>last_name</th>\n",
       "      <th>birthday</th>\n",
       "    </tr>\n",
       "  </thead>\n",
       "  <tbody>\n",
       "    <tr>\n",
       "      <th>0</th>\n",
       "      <td>Robert</td>\n",
       "      <td>Hernandez</td>\n",
       "      <td>5\\/3\\/67</td>\n",
       "    </tr>\n",
       "    <tr>\n",
       "      <th>1</th>\n",
       "      <td>Steve</td>\n",
       "      <td>Smith</td>\n",
       "      <td>8\\/4\\/84</td>\n",
       "    </tr>\n",
       "    <tr>\n",
       "      <th>2</th>\n",
       "      <td>Anne</td>\n",
       "      <td>Raps</td>\n",
       "      <td>9\\/13\\/91</td>\n",
       "    </tr>\n",
       "    <tr>\n",
       "      <th>3</th>\n",
       "      <td>Alice</td>\n",
       "      <td>Muller</td>\n",
       "      <td>4\\/15\\/75</td>\n",
       "    </tr>\n",
       "  </tbody>\n",
       "</table>\n",
       "</div>"
      ]
     },
     "execution_count": 11,
     "metadata": {},
     "output_type": "execute_result"
    }
   ],
   "execution_count": 11
  },
  {
   "cell_type": "markdown",
   "metadata": {},
   "source": [
    "## Exercise 2: \n",
    "In the data file, there is a webserver file called `hackers-access.httpd`.  For this exercise, you will use this file to answer the following questions:\n",
    "1.  Which browsers are the top 3 most used browsers in this data?\n",
    "2.  Which are the least (3) used operating systems?\n",
    "\n",
    "In order to accomplish this task, do the following:\n",
    "1. Parse each log to pull out the following relevant information\n",
    "        - user agent, bytes, status, remote host, number of bytes sent\n",
    "2. For each log, store the raw text and each piece of information in a data frame\n",
    "3.  Write a function which takes a User Agent string as an argument and returns the name of the operating system and the browser family.  HINT:  You might want to use `user_agents` module, the documentation for which is available here: (https://pypi.python.org/pypi/user-agents)\n",
    "4.  Next, apply this function to the column which contains the user agent string.\n",
    "5.  Store this series as a new column in the dataframe\n",
    "6.  Count the occurances of each value in the new columns (top 5 is fine)\n",
    "\n",
    "First we need to grab another python library with pip \n",
    "[https://pypi.org/project/apachelogs/](https://pypi.org/project/apachelogs/)"
   ]
  },
  {
   "cell_type": "code",
   "metadata": {
    "ExecuteTime": {
     "end_time": "2025-07-29T12:45:25.566279Z",
     "start_time": "2025-07-29T12:45:23.191055Z"
    }
   },
   "source": [
    "!pip install apachelogs"
   ],
   "outputs": [
    {
     "name": "stdout",
     "output_type": "stream",
     "text": [
      "Collecting apachelogs\r\n",
      "  Downloading apachelogs-0.6.1-py3-none-any.whl (17 kB)\r\n",
      "Requirement already satisfied: attrs>=17.1 in /Users/charlesgivre/.conda/envs/data-prep/lib/python3.8/site-packages (from apachelogs) (21.4.0)\r\n",
      "Collecting pydicti~=1.1\r\n",
      "  Downloading pydicti-1.2.1-py2.py3-none-any.whl (9.0 kB)\r\n",
      "Installing collected packages: pydicti, apachelogs\r\n",
      "Successfully installed apachelogs-0.6.1 pydicti-1.2.1\r\n"
     ]
    }
   ],
   "execution_count": 13
  },
  {
   "cell_type": "code",
   "metadata": {
    "ExecuteTime": {
     "end_time": "2025-07-29T12:52:34.764015Z",
     "start_time": "2025-07-29T12:52:34.758086Z"
    }
   },
   "source": [
    "from apachelogs import LogParser\n",
    "\n",
    "line_parser = LogParser(\"%h %l %u %t \\\"%r\\\" %>s %b \\\"%{Referer}i\\\" \\\"%{User-agent}i\\\"\")\n",
    "\n",
    "raw_text_log = '192.161.57.88 - - [30/Oct/2015:15:59:39 +0100] \"POST /login_form HTTP/1.1\" 200 18354 \"http://niels.basjes.nl/login_form\" \"Mozilla/5.0 (Windows NT 6.1; rv:32.0) Gecko/20100101 Firefox/32.0\"'\n",
    "\n",
    "log_dict = {}\n",
    "log_dict = line_parser.parse(raw_text_log)\n",
    "log_dict.entry"
   ],
   "outputs": [
    {
     "data": {
      "text/plain": [
       "'192.161.57.88 - - [30/Oct/2015:15:59:39 +0100] \"POST /login_form HTTP/1.1\" 200 18354 \"http://niels.basjes.nl/login_form\" \"Mozilla/5.0 (Windows NT 6.1; rv:32.0) Gecko/20100101 Firefox/32.0\"'"
      ]
     },
     "execution_count": 30,
     "metadata": {},
     "output_type": "execute_result"
    }
   ],
   "execution_count": 30
  },
  {
   "cell_type": "code",
   "metadata": {
    "ExecuteTime": {
     "end_time": "2025-07-29T12:52:35.593598Z",
     "start_time": "2025-07-29T12:52:35.587676Z"
    }
   },
   "source": [
    "log_dict.remote_host"
   ],
   "outputs": [
    {
     "data": {
      "text/plain": [
       "'192.161.57.88'"
      ]
     },
     "execution_count": 31,
     "metadata": {},
     "output_type": "execute_result"
    }
   ],
   "execution_count": 31
  },
  {
   "cell_type": "code",
   "metadata": {
    "ExecuteTime": {
     "end_time": "2025-07-29T12:52:36.220773Z",
     "start_time": "2025-07-29T12:52:36.215325Z"
    }
   },
   "source": [
    "log_dict.request_time"
   ],
   "outputs": [
    {
     "data": {
      "text/plain": [
       "datetime.datetime(2015, 10, 30, 15, 59, 39, tzinfo=datetime.timezone(datetime.timedelta(seconds=3600)))"
      ]
     },
     "execution_count": 32,
     "metadata": {},
     "output_type": "execute_result"
    }
   ],
   "execution_count": 32
  },
  {
   "cell_type": "code",
   "metadata": {
    "ExecuteTime": {
     "end_time": "2025-07-29T12:52:36.766564Z",
     "start_time": "2025-07-29T12:52:36.761643Z"
    }
   },
   "source": [
    "log_dict.request_time_fields"
   ],
   "outputs": [
    {
     "data": {
      "text/plain": [
       "{'timestamp': datetime.datetime(2015, 10, 30, 15, 59, 39, tzinfo=datetime.timezone(datetime.timedelta(seconds=3600)))}"
      ]
     },
     "execution_count": 33,
     "metadata": {},
     "output_type": "execute_result"
    }
   ],
   "execution_count": 33
  },
  {
   "cell_type": "code",
   "metadata": {
    "ExecuteTime": {
     "end_time": "2025-07-29T12:52:37.257929Z",
     "start_time": "2025-07-29T12:52:37.253588Z"
    }
   },
   "source": [
    "log_dict.bytes_sent"
   ],
   "outputs": [
    {
     "data": {
      "text/plain": [
       "18354"
      ]
     },
     "execution_count": 34,
     "metadata": {},
     "output_type": "execute_result"
    }
   ],
   "execution_count": 34
  },
  {
   "cell_type": "code",
   "metadata": {
    "ExecuteTime": {
     "end_time": "2025-07-29T12:52:37.686357Z",
     "start_time": "2025-07-29T12:52:37.681712Z"
    }
   },
   "source": [
    "log_dict.directives"
   ],
   "outputs": [
    {
     "data": {
      "text/plain": [
       "{'%h': '192.161.57.88',\n",
       " '%l': None,\n",
       " '%u': None,\n",
       " '%t': datetime.datetime(2015, 10, 30, 15, 59, 39, tzinfo=datetime.timezone(datetime.timedelta(seconds=3600))),\n",
       " '%r': 'POST /login_form HTTP/1.1',\n",
       " '%>s': 200,\n",
       " '%b': 18354,\n",
       " '%{Referer}i': 'http://niels.basjes.nl/login_form',\n",
       " '%{User-agent}i': 'Mozilla/5.0 (Windows NT 6.1; rv:32.0) Gecko/20100101 Firefox/32.0'}"
      ]
     },
     "execution_count": 35,
     "metadata": {},
     "output_type": "execute_result"
    }
   ],
   "execution_count": 35
  },
  {
   "cell_type": "code",
   "metadata": {
    "ExecuteTime": {
     "end_time": "2025-07-29T12:52:38.524946Z",
     "start_time": "2025-07-29T12:52:38.519371Z"
    }
   },
   "source": [
    "log_dict.headers_in"
   ],
   "outputs": [
    {
     "data": {
      "text/plain": [
       "dicti({'Referer': 'http://niels.basjes.nl/login_form', 'User-agent': 'Mozilla/5.0 (Windows NT 6.1; rv:32.0) Gecko/20100101 Firefox/32.0'})"
      ]
     },
     "execution_count": 36,
     "metadata": {},
     "output_type": "execute_result"
    }
   ],
   "execution_count": 36
  },
  {
   "cell_type": "code",
   "metadata": {
    "ExecuteTime": {
     "end_time": "2025-07-29T12:52:40.711241Z",
     "start_time": "2025-07-29T12:52:39.171078Z"
    }
   },
   "source": [
    "#Read in the log file\n",
    "server_log = open(DATA_HOME + \"hackers-access.httpd\", \"r\")\n",
    "\n",
    "#Create an empty dataframe\n",
    "parsed_server_data = pd.DataFrame()\n",
    "\n",
    "# read and parse each line and store the information in the columns of the dataframe\n",
    "for num, line in enumerate(server_log):\n",
    "    data = {}\n",
    "    data = line_parser.parse(line)\n",
    "    parsed_server_data.loc[num,'raw_log']= data.entry\n",
    "    parsed_server_data.loc[num,'remote_host']= data.remote_host\n",
    "    parsed_server_data.loc[num,'user_agent']=data.headers_in[\"User-agent\"]\n",
    "    parsed_server_data.loc[num,'request_time']=data.request_time\n",
    "    parsed_server_data.loc[num,'status']=data.final_status\n",
    "    parsed_server_data.loc[num,'bytes']=data.bytes_sent\n",
    "\n",
    "parsed_server_data.head()"
   ],
   "outputs": [
    {
     "data": {
      "text/plain": [
       "                                             raw_log     remote_host  \\\n",
       "0  195.154.46.135 - - [25/Oct/2015:04:11:25 +0100...  195.154.46.135   \n",
       "1  23.95.237.180 - - [25/Oct/2015:04:11:26 +0100]...   23.95.237.180   \n",
       "2  23.95.237.180 - - [25/Oct/2015:04:11:27 +0100]...   23.95.237.180   \n",
       "3  158.222.5.157 - - [25/Oct/2015:04:24:31 +0100]...   158.222.5.157   \n",
       "4  158.222.5.157 - - [25/Oct/2015:04:24:32 +0100]...   158.222.5.157   \n",
       "\n",
       "                                          user_agent  \\\n",
       "0  Mozilla/5.0 (Windows NT 5.1; rv:35.0) Gecko/20...   \n",
       "1  Mozilla/5.0 (Windows NT 5.1; rv:35.0) Gecko/20...   \n",
       "2  Mozilla/5.0 (Windows NT 5.1; rv:35.0) Gecko/20...   \n",
       "3  Mozilla/5.0 (Windows NT 6.3; WOW64; rv:34.0) G...   \n",
       "4  Mozilla/5.0 (Windows NT 6.3; WOW64; rv:34.0) G...   \n",
       "\n",
       "                request_time  status    bytes  \n",
       "0  2015-10-25 04:11:25+01:00   200.0  24323.0  \n",
       "1  2015-10-25 04:11:26+01:00   200.0  11114.0  \n",
       "2  2015-10-25 04:11:27+01:00   302.0   9093.0  \n",
       "3  2015-10-25 04:24:31+01:00   200.0  11114.0  \n",
       "4  2015-10-25 04:24:32+01:00   302.0   9093.0  "
      ],
      "text/html": [
       "<div>\n",
       "<style scoped>\n",
       "    .dataframe tbody tr th:only-of-type {\n",
       "        vertical-align: middle;\n",
       "    }\n",
       "\n",
       "    .dataframe tbody tr th {\n",
       "        vertical-align: top;\n",
       "    }\n",
       "\n",
       "    .dataframe thead th {\n",
       "        text-align: right;\n",
       "    }\n",
       "</style>\n",
       "<table border=\"1\" class=\"dataframe\">\n",
       "  <thead>\n",
       "    <tr style=\"text-align: right;\">\n",
       "      <th></th>\n",
       "      <th>raw_log</th>\n",
       "      <th>remote_host</th>\n",
       "      <th>user_agent</th>\n",
       "      <th>request_time</th>\n",
       "      <th>status</th>\n",
       "      <th>bytes</th>\n",
       "    </tr>\n",
       "  </thead>\n",
       "  <tbody>\n",
       "    <tr>\n",
       "      <th>0</th>\n",
       "      <td>195.154.46.135 - - [25/Oct/2015:04:11:25 +0100...</td>\n",
       "      <td>195.154.46.135</td>\n",
       "      <td>Mozilla/5.0 (Windows NT 5.1; rv:35.0) Gecko/20...</td>\n",
       "      <td>2015-10-25 04:11:25+01:00</td>\n",
       "      <td>200.0</td>\n",
       "      <td>24323.0</td>\n",
       "    </tr>\n",
       "    <tr>\n",
       "      <th>1</th>\n",
       "      <td>23.95.237.180 - - [25/Oct/2015:04:11:26 +0100]...</td>\n",
       "      <td>23.95.237.180</td>\n",
       "      <td>Mozilla/5.0 (Windows NT 5.1; rv:35.0) Gecko/20...</td>\n",
       "      <td>2015-10-25 04:11:26+01:00</td>\n",
       "      <td>200.0</td>\n",
       "      <td>11114.0</td>\n",
       "    </tr>\n",
       "    <tr>\n",
       "      <th>2</th>\n",
       "      <td>23.95.237.180 - - [25/Oct/2015:04:11:27 +0100]...</td>\n",
       "      <td>23.95.237.180</td>\n",
       "      <td>Mozilla/5.0 (Windows NT 5.1; rv:35.0) Gecko/20...</td>\n",
       "      <td>2015-10-25 04:11:27+01:00</td>\n",
       "      <td>302.0</td>\n",
       "      <td>9093.0</td>\n",
       "    </tr>\n",
       "    <tr>\n",
       "      <th>3</th>\n",
       "      <td>158.222.5.157 - - [25/Oct/2015:04:24:31 +0100]...</td>\n",
       "      <td>158.222.5.157</td>\n",
       "      <td>Mozilla/5.0 (Windows NT 6.3; WOW64; rv:34.0) G...</td>\n",
       "      <td>2015-10-25 04:24:31+01:00</td>\n",
       "      <td>200.0</td>\n",
       "      <td>11114.0</td>\n",
       "    </tr>\n",
       "    <tr>\n",
       "      <th>4</th>\n",
       "      <td>158.222.5.157 - - [25/Oct/2015:04:24:32 +0100]...</td>\n",
       "      <td>158.222.5.157</td>\n",
       "      <td>Mozilla/5.0 (Windows NT 6.3; WOW64; rv:34.0) G...</td>\n",
       "      <td>2015-10-25 04:24:32+01:00</td>\n",
       "      <td>302.0</td>\n",
       "      <td>9093.0</td>\n",
       "    </tr>\n",
       "  </tbody>\n",
       "</table>\n",
       "</div>"
      ]
     },
     "execution_count": 37,
     "metadata": {},
     "output_type": "execute_result"
    }
   ],
   "execution_count": 37
  },
  {
   "metadata": {
    "ExecuteTime": {
     "end_time": "2025-07-29T12:52:42.019201Z",
     "start_time": "2025-07-29T12:52:40.750130Z"
    }
   },
   "cell_type": "code",
   "source": "!pip install apache-log-parser",
   "outputs": [
    {
     "name": "stdout",
     "output_type": "stream",
     "text": [
      "Requirement already satisfied: apache-log-parser in /Users/charlesgivre/.conda/envs/data-prep/lib/python3.8/site-packages (1.7.0)\r\n",
      "Requirement already satisfied: six in /Users/charlesgivre/.conda/envs/data-prep/lib/python3.8/site-packages (from apache-log-parser) (1.16.0)\r\n",
      "Requirement already satisfied: user-agents in /Users/charlesgivre/.conda/envs/data-prep/lib/python3.8/site-packages (from apache-log-parser) (2.2.0)\r\n",
      "Requirement already satisfied: ua-parser>=0.10.0 in /Users/charlesgivre/.conda/envs/data-prep/lib/python3.8/site-packages (from user-agents->apache-log-parser) (0.18.0)\r\n"
     ]
    }
   ],
   "execution_count": 38
  },
  {
   "cell_type": "code",
   "metadata": {
    "ExecuteTime": {
     "end_time": "2025-07-29T12:52:43.107865Z",
     "start_time": "2025-07-29T12:52:42.102585Z"
    }
   },
   "source": [
    "!pip install ua-parser user-agents"
   ],
   "outputs": [
    {
     "name": "stdout",
     "output_type": "stream",
     "text": [
      "Requirement already satisfied: ua-parser in /Users/charlesgivre/.conda/envs/data-prep/lib/python3.8/site-packages (0.18.0)\r\n",
      "Requirement already satisfied: user-agents in /Users/charlesgivre/.conda/envs/data-prep/lib/python3.8/site-packages (2.2.0)\r\n"
     ]
    }
   ],
   "execution_count": 39
  },
  {
   "cell_type": "code",
   "metadata": {
    "ExecuteTime": {
     "end_time": "2025-07-29T12:52:43.198924Z",
     "start_time": "2025-07-29T12:52:43.195990Z"
    }
   },
   "source": [
    "# Step 3: Fix the functions to parse os and family from the user_agent column\n",
    "from user_agents import parse\n",
    "\n",
    "def get_os(x):\n",
    "    user_agent_os = parse(x).os\n",
    "    return user_agent_os\n",
    "\n",
    "def get_browser(x):\n",
    "    user_agent_browser = parse(x).browser\n",
    "    return user_agent_browser"
   ],
   "outputs": [],
   "execution_count": 40
  },
  {
   "cell_type": "code",
   "metadata": {
    "ExecuteTime": {
     "end_time": "2025-07-29T12:52:43.258393Z",
     "start_time": "2025-07-29T12:52:43.253367Z"
    }
   },
   "source": [
    "get_os(log_dict.headers_in[\"User-agent\"])"
   ],
   "outputs": [
    {
     "data": {
      "text/plain": [
       "OperatingSystem(family='Windows', version=(7,), version_string='7')"
      ]
     },
     "execution_count": 41,
     "metadata": {},
     "output_type": "execute_result"
    }
   ],
   "execution_count": 41
  },
  {
   "cell_type": "code",
   "metadata": {
    "ExecuteTime": {
     "end_time": "2025-07-29T12:52:43.477527Z",
     "start_time": "2025-07-29T12:52:43.473826Z"
    }
   },
   "source": [
    "get_browser(log_dict.headers_in[\"User-agent\"])"
   ],
   "outputs": [
    {
     "data": {
      "text/plain": [
       "Browser(family='Firefox', version=(32, 0), version_string='32.0')"
      ]
     },
     "execution_count": 42,
     "metadata": {},
     "output_type": "execute_result"
    }
   ],
   "execution_count": 42
  },
  {
   "cell_type": "code",
   "metadata": {
    "ExecuteTime": {
     "end_time": "2025-07-29T12:52:43.977650Z",
     "start_time": "2025-07-29T12:52:43.974380Z"
    }
   },
   "source": [
    "# Fixed functions. We need to get only the 'family' item from these objects. \n",
    "\n",
    "def get_os(x):\n",
    "    user_agent_os = parse(x).os.family\n",
    "    return user_agent_os\n",
    "\n",
    "def get_browser(x):\n",
    "    user_agent_browser = parse(x).browser.family\n",
    "    return user_agent_browser"
   ],
   "outputs": [],
   "execution_count": 43
  },
  {
   "cell_type": "code",
   "metadata": {
    "ExecuteTime": {
     "end_time": "2025-07-29T12:52:45.518298Z",
     "start_time": "2025-07-29T12:52:45.426007Z"
    }
   },
   "source": [
    "#Apply the functions to the dataframe\n",
    "parsed_server_data['os'] = parsed_server_data['user_agent'].apply( get_os )\n",
    "parsed_server_data['browser'] = parsed_server_data['user_agent'].apply( get_browser )"
   ],
   "outputs": [],
   "execution_count": 44
  },
  {
   "cell_type": "code",
   "metadata": {
    "ExecuteTime": {
     "end_time": "2025-07-29T12:53:06.490201Z",
     "start_time": "2025-07-29T12:53:06.474528Z"
    }
   },
   "source": [
    "parsed_server_data.sample(5)"
   ],
   "outputs": [
    {
     "data": {
      "text/plain": [
       "                                                raw_log      remote_host  \\\n",
       "588   23.95.238.253 - - [26/Oct/2015:05:11:39 +0100]...    23.95.238.253   \n",
       "1002  172.245.225.213 - - [26/Oct/2015:17:16:56 +010...  172.245.225.213   \n",
       "658   31.187.79.201 - - [26/Oct/2015:07:34:16 +0100]...    31.187.79.201   \n",
       "891   107.161.83.180 - - [26/Oct/2015:13:43:40 +0100...   107.161.83.180   \n",
       "378   186.206.255.185 - - [25/Oct/2015:19:50:02 +010...  186.206.255.185   \n",
       "\n",
       "                                             user_agent  \\\n",
       "588   Mozilla/5.0 (Windows NT 5.1; rv:35.0) Gecko/20...   \n",
       "1002  Mozilla/5.0 (Windows NT 6.3; WOW64; Trident/7....   \n",
       "658   Mozilla/5.0 (Windows NT 5.1; rv:35.0) Gecko/20...   \n",
       "891   Mozilla/5.0 (Windows NT 6.3; WOW64; Trident/7....   \n",
       "378   Mozilla/5.0 (Windows NT 5.1; rv:35.0) Gecko/20...   \n",
       "\n",
       "                   request_time  status    bytes       os  browser  \n",
       "588   2015-10-26 05:11:39+01:00   302.0   9093.0  Windows  Firefox  \n",
       "1002  2015-10-26 17:16:56+01:00   200.0  11620.0  Windows       IE  \n",
       "658   2015-10-26 07:34:16+01:00   200.0  18350.0  Windows  Firefox  \n",
       "891   2015-10-26 13:43:40+01:00   200.0  16806.0  Windows       IE  \n",
       "378   2015-10-25 19:50:02+01:00   302.0   9093.0  Windows  Firefox  "
      ],
      "text/html": [
       "<div>\n",
       "<style scoped>\n",
       "    .dataframe tbody tr th:only-of-type {\n",
       "        vertical-align: middle;\n",
       "    }\n",
       "\n",
       "    .dataframe tbody tr th {\n",
       "        vertical-align: top;\n",
       "    }\n",
       "\n",
       "    .dataframe thead th {\n",
       "        text-align: right;\n",
       "    }\n",
       "</style>\n",
       "<table border=\"1\" class=\"dataframe\">\n",
       "  <thead>\n",
       "    <tr style=\"text-align: right;\">\n",
       "      <th></th>\n",
       "      <th>raw_log</th>\n",
       "      <th>remote_host</th>\n",
       "      <th>user_agent</th>\n",
       "      <th>request_time</th>\n",
       "      <th>status</th>\n",
       "      <th>bytes</th>\n",
       "      <th>os</th>\n",
       "      <th>browser</th>\n",
       "    </tr>\n",
       "  </thead>\n",
       "  <tbody>\n",
       "    <tr>\n",
       "      <th>588</th>\n",
       "      <td>23.95.238.253 - - [26/Oct/2015:05:11:39 +0100]...</td>\n",
       "      <td>23.95.238.253</td>\n",
       "      <td>Mozilla/5.0 (Windows NT 5.1; rv:35.0) Gecko/20...</td>\n",
       "      <td>2015-10-26 05:11:39+01:00</td>\n",
       "      <td>302.0</td>\n",
       "      <td>9093.0</td>\n",
       "      <td>Windows</td>\n",
       "      <td>Firefox</td>\n",
       "    </tr>\n",
       "    <tr>\n",
       "      <th>1002</th>\n",
       "      <td>172.245.225.213 - - [26/Oct/2015:17:16:56 +010...</td>\n",
       "      <td>172.245.225.213</td>\n",
       "      <td>Mozilla/5.0 (Windows NT 6.3; WOW64; Trident/7....</td>\n",
       "      <td>2015-10-26 17:16:56+01:00</td>\n",
       "      <td>200.0</td>\n",
       "      <td>11620.0</td>\n",
       "      <td>Windows</td>\n",
       "      <td>IE</td>\n",
       "    </tr>\n",
       "    <tr>\n",
       "      <th>658</th>\n",
       "      <td>31.187.79.201 - - [26/Oct/2015:07:34:16 +0100]...</td>\n",
       "      <td>31.187.79.201</td>\n",
       "      <td>Mozilla/5.0 (Windows NT 5.1; rv:35.0) Gecko/20...</td>\n",
       "      <td>2015-10-26 07:34:16+01:00</td>\n",
       "      <td>200.0</td>\n",
       "      <td>18350.0</td>\n",
       "      <td>Windows</td>\n",
       "      <td>Firefox</td>\n",
       "    </tr>\n",
       "    <tr>\n",
       "      <th>891</th>\n",
       "      <td>107.161.83.180 - - [26/Oct/2015:13:43:40 +0100...</td>\n",
       "      <td>107.161.83.180</td>\n",
       "      <td>Mozilla/5.0 (Windows NT 6.3; WOW64; Trident/7....</td>\n",
       "      <td>2015-10-26 13:43:40+01:00</td>\n",
       "      <td>200.0</td>\n",
       "      <td>16806.0</td>\n",
       "      <td>Windows</td>\n",
       "      <td>IE</td>\n",
       "    </tr>\n",
       "    <tr>\n",
       "      <th>378</th>\n",
       "      <td>186.206.255.185 - - [25/Oct/2015:19:50:02 +010...</td>\n",
       "      <td>186.206.255.185</td>\n",
       "      <td>Mozilla/5.0 (Windows NT 5.1; rv:35.0) Gecko/20...</td>\n",
       "      <td>2015-10-25 19:50:02+01:00</td>\n",
       "      <td>302.0</td>\n",
       "      <td>9093.0</td>\n",
       "      <td>Windows</td>\n",
       "      <td>Firefox</td>\n",
       "    </tr>\n",
       "  </tbody>\n",
       "</table>\n",
       "</div>"
      ]
     },
     "execution_count": 45,
     "metadata": {},
     "output_type": "execute_result"
    }
   ],
   "execution_count": 45
  },
  {
   "cell_type": "code",
   "metadata": {
    "ExecuteTime": {
     "end_time": "2025-07-29T12:53:54.595211Z",
     "start_time": "2025-07-29T12:53:54.587472Z"
    }
   },
   "source": [
    "#Step 6: Count the values in new columns\n",
    "parsed_server_data['os'].value_counts()"
   ],
   "outputs": [
    {
     "data": {
      "text/plain": [
       "Windows      3185\n",
       "Linux         125\n",
       "Mac OS X       80\n",
       "Chrome OS      60\n",
       "Ubuntu          6\n",
       "Name: os, dtype: int64"
      ]
     },
     "execution_count": 46,
     "metadata": {},
     "output_type": "execute_result"
    }
   ],
   "execution_count": 46
  },
  {
   "cell_type": "code",
   "metadata": {
    "ExecuteTime": {
     "end_time": "2025-07-29T12:53:57.596455Z",
     "start_time": "2025-07-29T12:53:57.589056Z"
    }
   },
   "source": [
    "parsed_server_data['browser'].value_counts()"
   ],
   "outputs": [
    {
     "data": {
      "text/plain": [
       "Firefox    1476\n",
       "Chrome      789\n",
       "Opera       556\n",
       "Dragon      533\n",
       "IE           78\n",
       "Safari       24\n",
       "Name: browser, dtype: int64"
      ]
     },
     "execution_count": 47,
     "metadata": {},
     "output_type": "execute_result"
    }
   ],
   "execution_count": 47
  },
  {
   "cell_type": "code",
   "execution_count": 29,
   "metadata": {},
   "outputs": [
    {
     "data": {
      "text/plain": [
       "os\n",
       "Windows     3185\n",
       "Linux        125\n",
       "Mac OS X      80\n",
       "Name: count, dtype: int64"
      ]
     },
     "execution_count": 29,
     "metadata": {},
     "output_type": "execute_result"
    }
   ],
   "source": [
    "#Get the top 3 values\n",
    "parsed_server_data['os'].value_counts().head(3)"
   ]
  },
  {
   "cell_type": "code",
   "execution_count": 30,
   "metadata": {},
   "outputs": [
    {
     "data": {
      "text/plain": [
       "browser\n",
       "Safari     24\n",
       "IE         78\n",
       "Dragon    533\n",
       "Name: count, dtype: int64"
      ]
     },
     "execution_count": 30,
     "metadata": {},
     "output_type": "execute_result"
    }
   ],
   "source": [
    "#Get lowest 3 values\n",
    "parsed_server_data['browser'].value_counts(ascending=True).head(3)"
   ]
  },
  {
   "cell_type": "markdown",
   "metadata": {},
   "source": [
    "# Exercise 3:\n",
    "Using the `dailybots.csv` film, read the file into a DataFrame and perform the following operations:\n",
    "1.  Filter the DataFrame to include bots from the Government/Politics Industry.\n",
    "2.  Calculate the ratio of hosts to orgs and add this as a column to the DataFrame and output the result"
   ]
  },
  {
   "cell_type": "code",
   "metadata": {
    "ExecuteTime": {
     "end_time": "2025-07-29T12:55:27.374575Z",
     "start_time": "2025-07-29T12:55:27.348318Z"
    }
   },
   "source": [
    "bots_df = pd.read_csv(DATA_HOME + 'dailybots.csv')\n",
    "bots_df.sample(5)"
   ],
   "outputs": [
    {
     "data": {
      "text/plain": [
       "            date      botfam             industry  hosts  orgs\n",
       "4633  2016-08-23  zeroaccess  Healthcare/Wellness     13     8\n",
       "2179  2016-07-09      Sality              Finance     58    13\n",
       "2891  2016-07-22      PushDo        Manufacturing    235    10\n",
       "691   2016-06-13      Necurs            Education     40    23\n",
       "3942  2016-08-10      Ramnit  Healthcare/Wellness      3     3"
      ],
      "text/html": [
       "<div>\n",
       "<style scoped>\n",
       "    .dataframe tbody tr th:only-of-type {\n",
       "        vertical-align: middle;\n",
       "    }\n",
       "\n",
       "    .dataframe tbody tr th {\n",
       "        vertical-align: top;\n",
       "    }\n",
       "\n",
       "    .dataframe thead th {\n",
       "        text-align: right;\n",
       "    }\n",
       "</style>\n",
       "<table border=\"1\" class=\"dataframe\">\n",
       "  <thead>\n",
       "    <tr style=\"text-align: right;\">\n",
       "      <th></th>\n",
       "      <th>date</th>\n",
       "      <th>botfam</th>\n",
       "      <th>industry</th>\n",
       "      <th>hosts</th>\n",
       "      <th>orgs</th>\n",
       "    </tr>\n",
       "  </thead>\n",
       "  <tbody>\n",
       "    <tr>\n",
       "      <th>4633</th>\n",
       "      <td>2016-08-23</td>\n",
       "      <td>zeroaccess</td>\n",
       "      <td>Healthcare/Wellness</td>\n",
       "      <td>13</td>\n",
       "      <td>8</td>\n",
       "    </tr>\n",
       "    <tr>\n",
       "      <th>2179</th>\n",
       "      <td>2016-07-09</td>\n",
       "      <td>Sality</td>\n",
       "      <td>Finance</td>\n",
       "      <td>58</td>\n",
       "      <td>13</td>\n",
       "    </tr>\n",
       "    <tr>\n",
       "      <th>2891</th>\n",
       "      <td>2016-07-22</td>\n",
       "      <td>PushDo</td>\n",
       "      <td>Manufacturing</td>\n",
       "      <td>235</td>\n",
       "      <td>10</td>\n",
       "    </tr>\n",
       "    <tr>\n",
       "      <th>691</th>\n",
       "      <td>2016-06-13</td>\n",
       "      <td>Necurs</td>\n",
       "      <td>Education</td>\n",
       "      <td>40</td>\n",
       "      <td>23</td>\n",
       "    </tr>\n",
       "    <tr>\n",
       "      <th>3942</th>\n",
       "      <td>2016-08-10</td>\n",
       "      <td>Ramnit</td>\n",
       "      <td>Healthcare/Wellness</td>\n",
       "      <td>3</td>\n",
       "      <td>3</td>\n",
       "    </tr>\n",
       "  </tbody>\n",
       "</table>\n",
       "</div>"
      ]
     },
     "execution_count": 48,
     "metadata": {},
     "output_type": "execute_result"
    }
   ],
   "execution_count": 48
  },
  {
   "cell_type": "code",
   "metadata": {
    "ExecuteTime": {
     "end_time": "2025-07-29T12:56:58.111996Z",
     "start_time": "2025-07-29T12:56:58.101976Z"
    }
   },
   "source": [
    "gov_df = bots_df[bots_df['industry'] == \"Government/Politics\"]"
   ],
   "outputs": [],
   "execution_count": 49
  },
  {
   "cell_type": "code",
   "metadata": {
    "ExecuteTime": {
     "end_time": "2025-07-29T12:58:33.104256Z",
     "start_time": "2025-07-29T12:58:33.092395Z"
    }
   },
   "source": [
    "gov_df.sample(5)"
   ],
   "outputs": [
    {
     "data": {
      "text/plain": [
       "            date      botfam             industry  hosts  orgs      ratio\n",
       "4390  2016-08-18        Zusy  Government/Politics      2     1   2.000000\n",
       "3044  2016-07-25      Necurs  Government/Politics    118    10  11.800000\n",
       "3841  2016-08-08  zeroaccess  Government/Politics      7     6   1.166667\n",
       "1653  2016-06-30      Necurs  Government/Politics     45     9   5.000000\n",
       "4849  2016-08-27  zeroaccess  Government/Politics      3     2   1.500000"
      ],
      "text/html": [
       "<div>\n",
       "<style scoped>\n",
       "    .dataframe tbody tr th:only-of-type {\n",
       "        vertical-align: middle;\n",
       "    }\n",
       "\n",
       "    .dataframe tbody tr th {\n",
       "        vertical-align: top;\n",
       "    }\n",
       "\n",
       "    .dataframe thead th {\n",
       "        text-align: right;\n",
       "    }\n",
       "</style>\n",
       "<table border=\"1\" class=\"dataframe\">\n",
       "  <thead>\n",
       "    <tr style=\"text-align: right;\">\n",
       "      <th></th>\n",
       "      <th>date</th>\n",
       "      <th>botfam</th>\n",
       "      <th>industry</th>\n",
       "      <th>hosts</th>\n",
       "      <th>orgs</th>\n",
       "      <th>ratio</th>\n",
       "    </tr>\n",
       "  </thead>\n",
       "  <tbody>\n",
       "    <tr>\n",
       "      <th>4390</th>\n",
       "      <td>2016-08-18</td>\n",
       "      <td>Zusy</td>\n",
       "      <td>Government/Politics</td>\n",
       "      <td>2</td>\n",
       "      <td>1</td>\n",
       "      <td>2.000000</td>\n",
       "    </tr>\n",
       "    <tr>\n",
       "      <th>3044</th>\n",
       "      <td>2016-07-25</td>\n",
       "      <td>Necurs</td>\n",
       "      <td>Government/Politics</td>\n",
       "      <td>118</td>\n",
       "      <td>10</td>\n",
       "      <td>11.800000</td>\n",
       "    </tr>\n",
       "    <tr>\n",
       "      <th>3841</th>\n",
       "      <td>2016-08-08</td>\n",
       "      <td>zeroaccess</td>\n",
       "      <td>Government/Politics</td>\n",
       "      <td>7</td>\n",
       "      <td>6</td>\n",
       "      <td>1.166667</td>\n",
       "    </tr>\n",
       "    <tr>\n",
       "      <th>1653</th>\n",
       "      <td>2016-06-30</td>\n",
       "      <td>Necurs</td>\n",
       "      <td>Government/Politics</td>\n",
       "      <td>45</td>\n",
       "      <td>9</td>\n",
       "      <td>5.000000</td>\n",
       "    </tr>\n",
       "    <tr>\n",
       "      <th>4849</th>\n",
       "      <td>2016-08-27</td>\n",
       "      <td>zeroaccess</td>\n",
       "      <td>Government/Politics</td>\n",
       "      <td>3</td>\n",
       "      <td>2</td>\n",
       "      <td>1.500000</td>\n",
       "    </tr>\n",
       "  </tbody>\n",
       "</table>\n",
       "</div>"
      ]
     },
     "execution_count": 53,
     "metadata": {},
     "output_type": "execute_result"
    }
   ],
   "execution_count": 53
  },
  {
   "cell_type": "code",
   "metadata": {
    "ExecuteTime": {
     "end_time": "2025-07-29T12:59:09.526839Z",
     "start_time": "2025-07-29T12:59:09.511987Z"
    }
   },
   "source": [
    "gov_df['ratio'] = gov_df['hosts']/ gov_df['orgs']\n",
    "gov_df.sample(5)"
   ],
   "outputs": [
    {
     "name": "stderr",
     "output_type": "stream",
     "text": [
      "/var/folders/k2/j2l211yx0pn2tplx4slb7l6w0000gn/T/ipykernel_49332/2193131786.py:1: SettingWithCopyWarning: \n",
      "A value is trying to be set on a copy of a slice from a DataFrame.\n",
      "Try using .loc[row_indexer,col_indexer] = value instead\n",
      "\n",
      "See the caveats in the documentation: https://pandas.pydata.org/pandas-docs/stable/user_guide/indexing.html#returning-a-view-versus-a-copy\n",
      "  gov_df['ratio'] = gov_df['hosts']/ gov_df['orgs']\n"
     ]
    },
    {
     "data": {
      "text/plain": [
       "            date  botfam             industry  hosts  orgs      ratio\n",
       "1090  2016-06-20  Necurs  Government/Politics    157    13  12.076923\n",
       "2278  2016-07-11  PushDo  Government/Politics      2     2   1.000000\n",
       "4703  2016-08-25   Bedep  Government/Politics     40    11   3.636364\n",
       "257   2016-06-05  Sality  Government/Politics     35     6   5.833333\n",
       "1022  2016-06-19   Bedep  Government/Politics     59    11   5.363636"
      ],
      "text/html": [
       "<div>\n",
       "<style scoped>\n",
       "    .dataframe tbody tr th:only-of-type {\n",
       "        vertical-align: middle;\n",
       "    }\n",
       "\n",
       "    .dataframe tbody tr th {\n",
       "        vertical-align: top;\n",
       "    }\n",
       "\n",
       "    .dataframe thead th {\n",
       "        text-align: right;\n",
       "    }\n",
       "</style>\n",
       "<table border=\"1\" class=\"dataframe\">\n",
       "  <thead>\n",
       "    <tr style=\"text-align: right;\">\n",
       "      <th></th>\n",
       "      <th>date</th>\n",
       "      <th>botfam</th>\n",
       "      <th>industry</th>\n",
       "      <th>hosts</th>\n",
       "      <th>orgs</th>\n",
       "      <th>ratio</th>\n",
       "    </tr>\n",
       "  </thead>\n",
       "  <tbody>\n",
       "    <tr>\n",
       "      <th>1090</th>\n",
       "      <td>2016-06-20</td>\n",
       "      <td>Necurs</td>\n",
       "      <td>Government/Politics</td>\n",
       "      <td>157</td>\n",
       "      <td>13</td>\n",
       "      <td>12.076923</td>\n",
       "    </tr>\n",
       "    <tr>\n",
       "      <th>2278</th>\n",
       "      <td>2016-07-11</td>\n",
       "      <td>PushDo</td>\n",
       "      <td>Government/Politics</td>\n",
       "      <td>2</td>\n",
       "      <td>2</td>\n",
       "      <td>1.000000</td>\n",
       "    </tr>\n",
       "    <tr>\n",
       "      <th>4703</th>\n",
       "      <td>2016-08-25</td>\n",
       "      <td>Bedep</td>\n",
       "      <td>Government/Politics</td>\n",
       "      <td>40</td>\n",
       "      <td>11</td>\n",
       "      <td>3.636364</td>\n",
       "    </tr>\n",
       "    <tr>\n",
       "      <th>257</th>\n",
       "      <td>2016-06-05</td>\n",
       "      <td>Sality</td>\n",
       "      <td>Government/Politics</td>\n",
       "      <td>35</td>\n",
       "      <td>6</td>\n",
       "      <td>5.833333</td>\n",
       "    </tr>\n",
       "    <tr>\n",
       "      <th>1022</th>\n",
       "      <td>2016-06-19</td>\n",
       "      <td>Bedep</td>\n",
       "      <td>Government/Politics</td>\n",
       "      <td>59</td>\n",
       "      <td>11</td>\n",
       "      <td>5.363636</td>\n",
       "    </tr>\n",
       "  </tbody>\n",
       "</table>\n",
       "</div>"
      ]
     },
     "execution_count": 55,
     "metadata": {},
     "output_type": "execute_result"
    }
   ],
   "execution_count": 55
  },
  {
   "cell_type": "markdown",
   "metadata": {},
   "source": [
    "# Exercise 4:\n",
    "\n",
    "Read a more ```evil``` JSON ```eve_small.json```, where each line contains a nested JSON object. Derive one DataFrame, where all levels for the ```stats``` key are expanded to a top level column of that DataFrame. Easiest is to natively open the file in Python, loop over each line, use [json.loads](https://docs.python.org/3.5/library/json.html) from the json library, and then [json_normalize](http://pandas.pydata.org/pandas-docs/stable/generated/pandas.io.json.json_normalize.html) to expand the nested structure to top-level columns, append to a simple Python list and finally call [pd.concat](http://pandas.pydata.org/pandas-docs/version/0.20/generated/pandas.concat.html) on the list to get one complete DataFrame."
   ]
  },
  {
   "cell_type": "code",
   "metadata": {
    "ExecuteTime": {
     "end_time": "2025-07-29T13:00:16.242834Z",
     "start_time": "2025-07-29T13:00:16.237174Z"
    }
   },
   "source": [
    "def nested_json_to_df(fname_str):\n",
    "    with open(fname_str, 'r') as f:\n",
    "        l = []\n",
    "        for line in f:\n",
    "            if not line.strip():\n",
    "                continue\n",
    "            else:\n",
    "                d = json.loads(line)\n",
    "                if 'stats' in d.keys():\n",
    "                    df_tmp = pd.json_normalize(d)\n",
    "                    l.append(df_tmp)       \n",
    "    return pd.concat(l, ignore_index=True)"
   ],
   "outputs": [],
   "execution_count": 56
  },
  {
   "cell_type": "code",
   "execution_count": 38,
   "metadata": {
    "ExecuteTime": {
     "end_time": "2025-07-11T15:23:03.570220Z",
     "start_time": "2025-07-11T15:23:03.505039Z"
    }
   },
   "outputs": [],
   "source": [
    "eve = nested_json_to_df(DATA_HOME + 'eve_small.json')"
   ]
  },
  {
   "cell_type": "code",
   "execution_count": 39,
   "metadata": {
    "ExecuteTime": {
     "end_time": "2025-07-11T15:23:11.967969Z",
     "start_time": "2025-07-11T15:23:11.962674Z"
    }
   },
   "outputs": [
    {
     "data": {
      "text/html": [
       "<div>\n",
       "<style scoped>\n",
       "    .dataframe tbody tr th:only-of-type {\n",
       "        vertical-align: middle;\n",
       "    }\n",
       "\n",
       "    .dataframe tbody tr th {\n",
       "        vertical-align: top;\n",
       "    }\n",
       "\n",
       "    .dataframe thead th {\n",
       "        text-align: right;\n",
       "    }\n",
       "</style>\n",
       "<table border=\"1\" class=\"dataframe\">\n",
       "  <thead>\n",
       "    <tr style=\"text-align: right;\">\n",
       "      <th></th>\n",
       "      <th>timestamp</th>\n",
       "      <th>event_type</th>\n",
       "      <th>stats.uptime</th>\n",
       "      <th>stats.capture.kernel_packets</th>\n",
       "      <th>stats.capture.kernel_drops</th>\n",
       "      <th>stats.decoder.pkts</th>\n",
       "      <th>stats.decoder.bytes</th>\n",
       "      <th>stats.decoder.invalid</th>\n",
       "      <th>stats.decoder.ipv4</th>\n",
       "      <th>stats.decoder.ipv6</th>\n",
       "      <th>...</th>\n",
       "      <th>stats.flow_mgr.rows_checked</th>\n",
       "      <th>stats.flow_mgr.rows_skipped</th>\n",
       "      <th>stats.flow_mgr.rows_empty</th>\n",
       "      <th>stats.flow_mgr.rows_busy</th>\n",
       "      <th>stats.flow_mgr.rows_maxlen</th>\n",
       "      <th>stats.dns.memuse</th>\n",
       "      <th>stats.dns.memcap_state</th>\n",
       "      <th>stats.dns.memcap_global</th>\n",
       "      <th>stats.http.memuse</th>\n",
       "      <th>stats.http.memcap</th>\n",
       "    </tr>\n",
       "  </thead>\n",
       "  <tbody>\n",
       "    <tr>\n",
       "      <th>57</th>\n",
       "      <td>2017-04-06T18:21:59.000112+0000</td>\n",
       "      <td>stats</td>\n",
       "      <td>408</td>\n",
       "      <td>20</td>\n",
       "      <td>0</td>\n",
       "      <td>20</td>\n",
       "      <td>936</td>\n",
       "      <td>0</td>\n",
       "      <td>0</td>\n",
       "      <td>2</td>\n",
       "      <td>...</td>\n",
       "      <td>65536</td>\n",
       "      <td>65536</td>\n",
       "      <td>0</td>\n",
       "      <td>0</td>\n",
       "      <td>0</td>\n",
       "      <td>0</td>\n",
       "      <td>0</td>\n",
       "      <td>0</td>\n",
       "      <td>0</td>\n",
       "      <td>0</td>\n",
       "    </tr>\n",
       "    <tr>\n",
       "      <th>68</th>\n",
       "      <td>2017-04-06T18:23:16.000208+0000</td>\n",
       "      <td>stats</td>\n",
       "      <td>485</td>\n",
       "      <td>26</td>\n",
       "      <td>0</td>\n",
       "      <td>26</td>\n",
       "      <td>1188</td>\n",
       "      <td>0</td>\n",
       "      <td>0</td>\n",
       "      <td>2</td>\n",
       "      <td>...</td>\n",
       "      <td>65536</td>\n",
       "      <td>65536</td>\n",
       "      <td>0</td>\n",
       "      <td>0</td>\n",
       "      <td>0</td>\n",
       "      <td>0</td>\n",
       "      <td>0</td>\n",
       "      <td>0</td>\n",
       "      <td>0</td>\n",
       "      <td>0</td>\n",
       "    </tr>\n",
       "    <tr>\n",
       "      <th>7</th>\n",
       "      <td>2017-04-06T18:16:09.000175+0000</td>\n",
       "      <td>stats</td>\n",
       "      <td>58</td>\n",
       "      <td>2</td>\n",
       "      <td>0</td>\n",
       "      <td>2</td>\n",
       "      <td>180</td>\n",
       "      <td>0</td>\n",
       "      <td>0</td>\n",
       "      <td>2</td>\n",
       "      <td>...</td>\n",
       "      <td>65536</td>\n",
       "      <td>65536</td>\n",
       "      <td>0</td>\n",
       "      <td>0</td>\n",
       "      <td>0</td>\n",
       "      <td>0</td>\n",
       "      <td>0</td>\n",
       "      <td>0</td>\n",
       "      <td>0</td>\n",
       "      <td>0</td>\n",
       "    </tr>\n",
       "    <tr>\n",
       "      <th>28</th>\n",
       "      <td>2017-04-06T18:18:36.000135+0000</td>\n",
       "      <td>stats</td>\n",
       "      <td>205</td>\n",
       "      <td>11</td>\n",
       "      <td>0</td>\n",
       "      <td>11</td>\n",
       "      <td>558</td>\n",
       "      <td>0</td>\n",
       "      <td>0</td>\n",
       "      <td>2</td>\n",
       "      <td>...</td>\n",
       "      <td>65536</td>\n",
       "      <td>65536</td>\n",
       "      <td>0</td>\n",
       "      <td>0</td>\n",
       "      <td>0</td>\n",
       "      <td>0</td>\n",
       "      <td>0</td>\n",
       "      <td>0</td>\n",
       "      <td>0</td>\n",
       "      <td>0</td>\n",
       "    </tr>\n",
       "    <tr>\n",
       "      <th>12</th>\n",
       "      <td>2017-04-06T18:16:44.000153+0000</td>\n",
       "      <td>stats</td>\n",
       "      <td>93</td>\n",
       "      <td>5</td>\n",
       "      <td>0</td>\n",
       "      <td>5</td>\n",
       "      <td>306</td>\n",
       "      <td>0</td>\n",
       "      <td>0</td>\n",
       "      <td>2</td>\n",
       "      <td>...</td>\n",
       "      <td>65536</td>\n",
       "      <td>65536</td>\n",
       "      <td>0</td>\n",
       "      <td>0</td>\n",
       "      <td>0</td>\n",
       "      <td>0</td>\n",
       "      <td>0</td>\n",
       "      <td>0</td>\n",
       "      <td>0</td>\n",
       "      <td>0</td>\n",
       "    </tr>\n",
       "  </tbody>\n",
       "</table>\n",
       "<p>5 rows × 101 columns</p>\n",
       "</div>"
      ],
      "text/plain": [
       "                          timestamp event_type  stats.uptime  \\\n",
       "57  2017-04-06T18:21:59.000112+0000      stats           408   \n",
       "68  2017-04-06T18:23:16.000208+0000      stats           485   \n",
       "7   2017-04-06T18:16:09.000175+0000      stats            58   \n",
       "28  2017-04-06T18:18:36.000135+0000      stats           205   \n",
       "12  2017-04-06T18:16:44.000153+0000      stats            93   \n",
       "\n",
       "    stats.capture.kernel_packets  stats.capture.kernel_drops  \\\n",
       "57                            20                           0   \n",
       "68                            26                           0   \n",
       "7                              2                           0   \n",
       "28                            11                           0   \n",
       "12                             5                           0   \n",
       "\n",
       "    stats.decoder.pkts  stats.decoder.bytes  stats.decoder.invalid  \\\n",
       "57                  20                  936                      0   \n",
       "68                  26                 1188                      0   \n",
       "7                    2                  180                      0   \n",
       "28                  11                  558                      0   \n",
       "12                   5                  306                      0   \n",
       "\n",
       "    stats.decoder.ipv4  stats.decoder.ipv6  ...  stats.flow_mgr.rows_checked  \\\n",
       "57                   0                   2  ...                        65536   \n",
       "68                   0                   2  ...                        65536   \n",
       "7                    0                   2  ...                        65536   \n",
       "28                   0                   2  ...                        65536   \n",
       "12                   0                   2  ...                        65536   \n",
       "\n",
       "    stats.flow_mgr.rows_skipped  stats.flow_mgr.rows_empty  \\\n",
       "57                        65536                          0   \n",
       "68                        65536                          0   \n",
       "7                         65536                          0   \n",
       "28                        65536                          0   \n",
       "12                        65536                          0   \n",
       "\n",
       "    stats.flow_mgr.rows_busy  stats.flow_mgr.rows_maxlen  stats.dns.memuse  \\\n",
       "57                         0                           0                 0   \n",
       "68                         0                           0                 0   \n",
       "7                          0                           0                 0   \n",
       "28                         0                           0                 0   \n",
       "12                         0                           0                 0   \n",
       "\n",
       "    stats.dns.memcap_state  stats.dns.memcap_global  stats.http.memuse  \\\n",
       "57                       0                        0                  0   \n",
       "68                       0                        0                  0   \n",
       "7                        0                        0                  0   \n",
       "28                       0                        0                  0   \n",
       "12                       0                        0                  0   \n",
       "\n",
       "    stats.http.memcap  \n",
       "57                  0  \n",
       "68                  0  \n",
       "7                   0  \n",
       "28                  0  \n",
       "12                  0  \n",
       "\n",
       "[5 rows x 101 columns]"
      ]
     },
     "execution_count": 39,
     "metadata": {},
     "output_type": "execute_result"
    }
   ],
   "source": [
    "eve.sample(5)"
   ]
  },
  {
   "cell_type": "markdown",
   "metadata": {},
   "source": [
    "# Exercise 5\n",
    "In this exercise, you will learn how to convert a PCAP file into JSON and do some basic summarization of the data.  In the `data` directory, you will find a file called `http.pcap`.  Our first step is to convert this to JSON.  To do this we have installed a python module called `pcapview` (docs available here: https://pydigger.com/pypi/pcapview) which can convert the pcap file to JSON.  \n",
    "\n",
    "Once you've done that, your assignment is to answer the following questions:\n",
    "1.  What are the most frequent source IP addresses?\n",
    "2.  How many differnet source ports were accessed?\n",
    "\n",
    "To do this you will have to load this data into a DataFrame.  Using what we've learned in class, do the following:\n",
    "1.  Load the data into a DataFrame using the technique of your choice\n",
    "2.  Extract the requisite columns from the DataFrame, in this case, you want the source IP and source ports\n",
    "3.  Execute a `value_counts()` on those columns.  "
   ]
  },
  {
   "cell_type": "code",
   "metadata": {
    "ExecuteTime": {
     "end_time": "2025-07-29T13:01:16.012186Z",
     "start_time": "2025-07-29T13:01:15.982367Z"
    }
   },
   "source": [
    "#Load the data\n",
    "with open(DATA_HOME + 'http-pcap.json') as data_file:    \n",
    "    pcap_data = json.load(data_file)\n",
    "\n",
    "#Normalize it and load it into a DataFrame\n",
    "df = pd.DataFrame( pd.json_normalize(pcap_data) )\n",
    "\n",
    "#View the results\n",
    "df.head()"
   ],
   "outputs": [
    {
     "data": {
      "text/plain": [
       "           time                   timestamp  IP.version  IP.ttl  IP.proto  \\\n",
       "0  1.084443e+09  2004-05-13T10:17:07.311224           4     128         6   \n",
       "1  1.084443e+09  2004-05-13T10:17:08.222534           4      47         6   \n",
       "2  1.084443e+09  2004-05-13T10:17:08.222534           4     128         6   \n",
       "3  1.084443e+09  2004-05-13T10:17:08.222534           4     128         6   \n",
       "4  1.084443e+09  2004-05-13T10:17:08.783340           4      47         6   \n",
       "\n",
       "  IP.options  IP.len           IP.dst  IP.frag  IP.flags  ... DNS.opcode  \\\n",
       "0         []      48   65.208.228.223        0         2  ...        NaN   \n",
       "1         []      48  145.254.160.237        0         2  ...        NaN   \n",
       "2         []      40   65.208.228.223        0         2  ...        NaN   \n",
       "3         []     519   65.208.228.223        0         2  ...        NaN   \n",
       "4         []      40  145.254.160.237        0         2  ...        NaN   \n",
       "\n",
       "   DNS.rcode  DNS.ra  DNS.id  DNS.cd DNS.an.rrname  DNS.an.rclass DNS.an.type  \\\n",
       "0        NaN     NaN     NaN     NaN           NaN            NaN         NaN   \n",
       "1        NaN     NaN     NaN     NaN           NaN            NaN         NaN   \n",
       "2        NaN     NaN     NaN     NaN           NaN            NaN         NaN   \n",
       "3        NaN     NaN     NaN     NaN           NaN            NaN         NaN   \n",
       "4        NaN     NaN     NaN     NaN           NaN            NaN         NaN   \n",
       "\n",
       "   DNS.an.ttl  DNS.an.rdata  \n",
       "0         NaN           NaN  \n",
       "1         NaN           NaN  \n",
       "2         NaN           NaN  \n",
       "3         NaN           NaN  \n",
       "4         NaN           NaN  \n",
       "\n",
       "[5 rows x 61 columns]"
      ],
      "text/html": [
       "<div>\n",
       "<style scoped>\n",
       "    .dataframe tbody tr th:only-of-type {\n",
       "        vertical-align: middle;\n",
       "    }\n",
       "\n",
       "    .dataframe tbody tr th {\n",
       "        vertical-align: top;\n",
       "    }\n",
       "\n",
       "    .dataframe thead th {\n",
       "        text-align: right;\n",
       "    }\n",
       "</style>\n",
       "<table border=\"1\" class=\"dataframe\">\n",
       "  <thead>\n",
       "    <tr style=\"text-align: right;\">\n",
       "      <th></th>\n",
       "      <th>time</th>\n",
       "      <th>timestamp</th>\n",
       "      <th>IP.version</th>\n",
       "      <th>IP.ttl</th>\n",
       "      <th>IP.proto</th>\n",
       "      <th>IP.options</th>\n",
       "      <th>IP.len</th>\n",
       "      <th>IP.dst</th>\n",
       "      <th>IP.frag</th>\n",
       "      <th>IP.flags</th>\n",
       "      <th>...</th>\n",
       "      <th>DNS.opcode</th>\n",
       "      <th>DNS.rcode</th>\n",
       "      <th>DNS.ra</th>\n",
       "      <th>DNS.id</th>\n",
       "      <th>DNS.cd</th>\n",
       "      <th>DNS.an.rrname</th>\n",
       "      <th>DNS.an.rclass</th>\n",
       "      <th>DNS.an.type</th>\n",
       "      <th>DNS.an.ttl</th>\n",
       "      <th>DNS.an.rdata</th>\n",
       "    </tr>\n",
       "  </thead>\n",
       "  <tbody>\n",
       "    <tr>\n",
       "      <th>0</th>\n",
       "      <td>1.084443e+09</td>\n",
       "      <td>2004-05-13T10:17:07.311224</td>\n",
       "      <td>4</td>\n",
       "      <td>128</td>\n",
       "      <td>6</td>\n",
       "      <td>[]</td>\n",
       "      <td>48</td>\n",
       "      <td>65.208.228.223</td>\n",
       "      <td>0</td>\n",
       "      <td>2</td>\n",
       "      <td>...</td>\n",
       "      <td>NaN</td>\n",
       "      <td>NaN</td>\n",
       "      <td>NaN</td>\n",
       "      <td>NaN</td>\n",
       "      <td>NaN</td>\n",
       "      <td>NaN</td>\n",
       "      <td>NaN</td>\n",
       "      <td>NaN</td>\n",
       "      <td>NaN</td>\n",
       "      <td>NaN</td>\n",
       "    </tr>\n",
       "    <tr>\n",
       "      <th>1</th>\n",
       "      <td>1.084443e+09</td>\n",
       "      <td>2004-05-13T10:17:08.222534</td>\n",
       "      <td>4</td>\n",
       "      <td>47</td>\n",
       "      <td>6</td>\n",
       "      <td>[]</td>\n",
       "      <td>48</td>\n",
       "      <td>145.254.160.237</td>\n",
       "      <td>0</td>\n",
       "      <td>2</td>\n",
       "      <td>...</td>\n",
       "      <td>NaN</td>\n",
       "      <td>NaN</td>\n",
       "      <td>NaN</td>\n",
       "      <td>NaN</td>\n",
       "      <td>NaN</td>\n",
       "      <td>NaN</td>\n",
       "      <td>NaN</td>\n",
       "      <td>NaN</td>\n",
       "      <td>NaN</td>\n",
       "      <td>NaN</td>\n",
       "    </tr>\n",
       "    <tr>\n",
       "      <th>2</th>\n",
       "      <td>1.084443e+09</td>\n",
       "      <td>2004-05-13T10:17:08.222534</td>\n",
       "      <td>4</td>\n",
       "      <td>128</td>\n",
       "      <td>6</td>\n",
       "      <td>[]</td>\n",
       "      <td>40</td>\n",
       "      <td>65.208.228.223</td>\n",
       "      <td>0</td>\n",
       "      <td>2</td>\n",
       "      <td>...</td>\n",
       "      <td>NaN</td>\n",
       "      <td>NaN</td>\n",
       "      <td>NaN</td>\n",
       "      <td>NaN</td>\n",
       "      <td>NaN</td>\n",
       "      <td>NaN</td>\n",
       "      <td>NaN</td>\n",
       "      <td>NaN</td>\n",
       "      <td>NaN</td>\n",
       "      <td>NaN</td>\n",
       "    </tr>\n",
       "    <tr>\n",
       "      <th>3</th>\n",
       "      <td>1.084443e+09</td>\n",
       "      <td>2004-05-13T10:17:08.222534</td>\n",
       "      <td>4</td>\n",
       "      <td>128</td>\n",
       "      <td>6</td>\n",
       "      <td>[]</td>\n",
       "      <td>519</td>\n",
       "      <td>65.208.228.223</td>\n",
       "      <td>0</td>\n",
       "      <td>2</td>\n",
       "      <td>...</td>\n",
       "      <td>NaN</td>\n",
       "      <td>NaN</td>\n",
       "      <td>NaN</td>\n",
       "      <td>NaN</td>\n",
       "      <td>NaN</td>\n",
       "      <td>NaN</td>\n",
       "      <td>NaN</td>\n",
       "      <td>NaN</td>\n",
       "      <td>NaN</td>\n",
       "      <td>NaN</td>\n",
       "    </tr>\n",
       "    <tr>\n",
       "      <th>4</th>\n",
       "      <td>1.084443e+09</td>\n",
       "      <td>2004-05-13T10:17:08.783340</td>\n",
       "      <td>4</td>\n",
       "      <td>47</td>\n",
       "      <td>6</td>\n",
       "      <td>[]</td>\n",
       "      <td>40</td>\n",
       "      <td>145.254.160.237</td>\n",
       "      <td>0</td>\n",
       "      <td>2</td>\n",
       "      <td>...</td>\n",
       "      <td>NaN</td>\n",
       "      <td>NaN</td>\n",
       "      <td>NaN</td>\n",
       "      <td>NaN</td>\n",
       "      <td>NaN</td>\n",
       "      <td>NaN</td>\n",
       "      <td>NaN</td>\n",
       "      <td>NaN</td>\n",
       "      <td>NaN</td>\n",
       "      <td>NaN</td>\n",
       "    </tr>\n",
       "  </tbody>\n",
       "</table>\n",
       "<p>5 rows × 61 columns</p>\n",
       "</div>"
      ]
     },
     "execution_count": 57,
     "metadata": {},
     "output_type": "execute_result"
    }
   ],
   "execution_count": 57
  },
  {
   "cell_type": "code",
   "metadata": {
    "ExecuteTime": {
     "end_time": "2025-07-29T13:01:24.769053Z",
     "start_time": "2025-07-29T13:01:24.748469Z"
    }
   },
   "source": [
    "df1 = pd.read_json(DATA_HOME + 'http-pcap.json')"
   ],
   "outputs": [],
   "execution_count": 58
  },
  {
   "cell_type": "code",
   "metadata": {
    "ExecuteTime": {
     "end_time": "2025-07-29T13:02:13.179385Z",
     "start_time": "2025-07-29T13:02:13.171027Z"
    }
   },
   "source": "df1['IP'].sample(5)",
   "outputs": [
    {
     "data": {
      "text/plain": [
       "14    {'version': 4, 'ttl': 128, 'proto': 6, 'option...\n",
       "1     {'version': 4, 'ttl': 47, 'proto': 6, 'options...\n",
       "36    {'version': 4, 'ttl': 128, 'proto': 6, 'option...\n",
       "16    {'version': 4, 'ttl': 249, 'proto': 17, 'optio...\n",
       "30    {'version': 4, 'ttl': 47, 'proto': 6, 'options...\n",
       "Name: IP, dtype: object"
      ]
     },
     "execution_count": 63,
     "metadata": {},
     "output_type": "execute_result"
    }
   ],
   "execution_count": 63
  },
  {
   "cell_type": "code",
   "metadata": {
    "ExecuteTime": {
     "end_time": "2025-07-29T13:02:34.228430Z",
     "start_time": "2025-07-29T13:02:34.219252Z"
    }
   },
   "source": [
    "#Extract the source port and count the unique values\n",
    "df['TCP.sport'].value_counts(dropna=False)"
   ],
   "outputs": [
    {
     "data": {
      "text/plain": [
       "80.0      22\n",
       "3372.0    16\n",
       "3371.0     3\n",
       "NaN        2\n",
       "Name: TCP.sport, dtype: int64"
      ]
     },
     "execution_count": 64,
     "metadata": {},
     "output_type": "execute_result"
    }
   ],
   "execution_count": 64
  },
  {
   "cell_type": "code",
   "metadata": {
    "ExecuteTime": {
     "end_time": "2025-07-29T13:02:45.544490Z",
     "start_time": "2025-07-29T13:02:45.537516Z"
    }
   },
   "source": [
    "#Extract the source IP and count the unique values\n",
    "df['IP.src'].value_counts(dropna=False)"
   ],
   "outputs": [
    {
     "data": {
      "text/plain": [
       "145.254.160.237    20\n",
       "65.208.228.223     18\n",
       "216.239.59.99       4\n",
       "145.253.2.203       1\n",
       "Name: IP.src, dtype: int64"
      ]
     },
     "execution_count": 65,
     "metadata": {},
     "output_type": "execute_result"
    }
   ],
   "execution_count": 65
  },
  {
   "cell_type": "code",
   "execution_count": null,
   "metadata": {},
   "outputs": [],
   "source": []
  }
 ],
 "metadata": {
  "kernelspec": {
   "display_name": "Python [conda env:.conda-data-prep]",
   "language": "python",
   "name": "conda-env-.conda-data-prep-py"
  },
  "language_info": {
   "codemirror_mode": {
    "name": "ipython",
    "version": 3
   },
   "file_extension": ".py",
   "mimetype": "text/x-python",
   "name": "python",
   "nbconvert_exporter": "python",
   "pygments_lexer": "ipython3",
   "version": "3.11.13"
  },
  "toc": {
   "base_numbering": 1,
   "nav_menu": {},
   "number_sections": false,
   "sideBar": false,
   "skip_h1_title": false,
   "title_cell": "Table of Contents",
   "title_sidebar": "Contents",
   "toc_cell": false,
   "toc_position": {},
   "toc_section_display": false,
   "toc_window_display": false
  },
  "varInspector": {
   "cols": {
    "lenName": 16,
    "lenType": 16,
    "lenVar": 40
   },
   "kernels_config": {
    "python": {
     "delete_cmd_postfix": "",
     "delete_cmd_prefix": "del ",
     "library": "var_list.py",
     "varRefreshCmd": "print(var_dic_list())"
    },
    "r": {
     "delete_cmd_postfix": ") ",
     "delete_cmd_prefix": "rm(",
     "library": "var_list.r",
     "varRefreshCmd": "cat(var_dic_list()) "
    }
   },
   "types_to_exclude": [
    "module",
    "function",
    "builtin_function_or_method",
    "instance",
    "_Feature"
   ],
   "window_display": false
  },
  "widgets": {
   "application/vnd.jupyter.widget-state+json": {
    "state": {},
    "version_major": 2,
    "version_minor": 0
   }
  }
 },
 "nbformat": 4,
 "nbformat_minor": 4
}
