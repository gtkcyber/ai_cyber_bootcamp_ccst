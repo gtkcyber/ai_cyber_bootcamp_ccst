{
 "cells": [
  {
   "cell_type": "markdown",
   "id": "cd0b8d30",
   "metadata": {
    "ExecuteTime": {
     "end_time": "2023-07-28T22:27:28.015095Z",
     "start_time": "2023-07-28T22:27:28.009889Z"
    }
   },
   "source": [
    "<img src=\"../img/GTK_Logo_Social Icon.jpg\" width=175 align=\"right\" />\n",
    "\n",
    "\n",
    "# Worksheet 10: Using GPT for Anomaly Detection - Answers\n",
    "\n",
    "This worksheet covers concepts relating to Anomaly Detection using an LLM.  It should take no more than 20-30 minutes to complete.  Please raise your hand if you get stuck.  \n",
    "\n",
    "There are many ways to accomplish the tasks that you are presented with, however you will find that by using the techniques covered in class, the exercises should be relatively simple. \n",
    "\n",
    "## Import the Libraries\n",
    "For this exercise, we will be using:\n",
    "* Pandas (https://pandas.pydata.org/pandas-docs/stable/)\n",
    "* OpenAI (https://pypi.org/project/openai/)\n",
    "\n",
    "## Obtain an OpenAI Key\n",
    "For this exercise, you will need an OpenAI API Key. Please go to https://openai.com and get your API key. For the purposes of this exercise, you do not need a paid account.  "
   ]
  },
  {
   "cell_type": "code",
   "id": "4d9b6a37",
   "metadata": {
    "ExecuteTime": {
     "end_time": "2025-07-20T21:17:12.046216Z",
     "start_time": "2025-07-20T21:17:12.041952Z"
    }
   },
   "source": [
    "import pandas as pd \n",
    "import os\n",
    "from dotenv import load_dotenv\n",
    "from openai import OpenAI\n",
    "import ast\n",
    "import json\n",
    "\n",
    "load_dotenv()"
   ],
   "outputs": [
    {
     "data": {
      "text/plain": [
       "True"
      ]
     },
     "execution_count": 4,
     "metadata": {},
     "output_type": "execute_result"
    }
   ],
   "execution_count": 4
  },
  {
   "cell_type": "markdown",
   "id": "099327ed",
   "metadata": {},
   "source": [
    "## Step 1:  Read in the Data\n",
    "\n",
    "For this exercise, we're going to see how well OpenAI functions to detect anomalies in data.  We're going to use the same CPU dataset that we used in the Anomaly Detection worksheet.\n",
    "\n",
    "First we're going to read the \"training\" data, into a dataframe followed by the test data.  If you recall, the training data does not contain any anomalies, but the test data does about 10 seconds into the data. "
   ]
  },
  {
   "cell_type": "code",
   "id": "65c85a2f",
   "metadata": {
    "ExecuteTime": {
     "end_time": "2025-07-20T21:17:13.316989Z",
     "start_time": "2025-07-20T21:17:13.307852Z"
    }
   },
   "source": [
    "training_data = pd.read_csv('../data/cpu-train-b.csv', parse_dates=[0])\n",
    "testing_data = pd.read_csv('../data/cpu-test-b.csv', parse_dates=[0])"
   ],
   "outputs": [],
   "execution_count": 5
  },
  {
   "cell_type": "markdown",
   "id": "ee33c95e",
   "metadata": {},
   "source": [
    "## Step 2:  Format the Data for the Prompt:\n",
    "Next, we're going to create a prompt that has a sample of the training data, as well as the unknown data. There are many ways to format the prompt, but we're going to do something like this.  We want every line in the dataframe to be formatted as shown below:\n",
    "\n",
    "```\n",
    "Timestamp: 2022-01-01 23:01:01, cpu 2.0\n",
    "```\n",
    "\n",
    "As a first step, write a function which iterates over the rows of a dataframe and prints them in the format above."
   ]
  },
  {
   "cell_type": "code",
   "id": "4f4849cf",
   "metadata": {
    "ExecuteTime": {
     "end_time": "2025-07-20T21:17:14.463491Z",
     "start_time": "2025-07-20T21:17:14.460373Z"
    }
   },
   "source": [
    "def format_data_for_prompt(df: pd.DataFrame) -> str:\n",
    "    '''\n",
    "    This function accepts a dataframe as input and formats that data\n",
    "    for the OpenAI prompt.\n",
    "    '''\n",
    "    data = \"\"\n",
    "    for index, row in df.iterrows():\n",
    "        data += f\"Timestamp: {row['datetime']}, cpu: {row['cpu']}\\n\"\n",
    "    return data"
   ],
   "outputs": [],
   "execution_count": 6
  },
  {
   "cell_type": "markdown",
   "id": "51ff5633",
   "metadata": {},
   "source": [
    "## Step 3:  Generate the Prompt:\n",
    "Now that we have that, use the function to craft a prompt.  In our experiments, the following structure worked well:\n",
    "\n",
    "```\n",
    "The following contains 50 lines representing normal CPU timeseries data.\n",
    "Timestamp: 2017-01-27 19:03:00, cpu: 0.88\n",
    "Timestamp: 2017-01-28 02:09:00, cpu: 1.22\n",
    "Timestamp: 2017-01-28 04:04:00, cpu: 1.57\n",
    "Timestamp: 2017-01-28 00:10:00, cpu: 0.87\n",
    "Timestamp: 2017-01-28 02:08:00, cpu: 1.28\n",
    "Timestamp: 2017-01-28 03:28:00, cpu: 1.42\n",
    "Timestamp: 2017-01-28 01:03:00, cpu: 2.23\n",
    "...\n",
    "\n",
    "Below are 40 rows of unknown data.  Find any anomalies in this data.\n",
    "Timestamp: 2017-01-28 04:42:00, cpu: 1.71\n",
    "Timestamp: 2017-01-28 04:43:00, cpu: 1.58\n",
    "Timestamp: 2017-01-28 04:44:00, cpu: 1.86\n",
    "Timestamp: 2017-01-28 04:45:00, cpu: 1.66\n",
    "Timestamp: 2017-01-28 04:46:00, cpu: 1.61\n",
    "Timestamp: 2017-01-28 04:47:00, cpu: 1.52\n",
    "Timestamp: 2017-01-28 04:48:00, cpu: 1.43\n",
    "...\n",
    "\n",
    "\n",
    "Output the anomalous rows as a python object.\n",
    "```\n",
    "You do not and should not need to use the entire training set as that would create a really long prompt and the end result would be an expensive API call.  For the example we arbitrarily chose to use a sample of 50 rows.  For the testing set, you'll need to send at least the first 20 rows."
   ]
  },
  {
   "cell_type": "code",
   "id": "44957811",
   "metadata": {
    "ExecuteTime": {
     "end_time": "2025-07-20T21:17:15.800997Z",
     "start_time": "2025-07-20T21:17:15.795343Z"
    }
   },
   "source": [
    "normal_data = format_data_for_prompt(training_data.sample(50))\n",
    "prompt = f\"The following contains 50 lines representing normal CPU timeseries data.\\n{normal_data}\\n\""
   ],
   "outputs": [],
   "execution_count": 7
  },
  {
   "cell_type": "code",
   "id": "7fafa5bd",
   "metadata": {
    "ExecuteTime": {
     "end_time": "2025-07-20T21:17:16.300539Z",
     "start_time": "2025-07-20T21:17:16.295183Z"
    }
   },
   "source": [
    "unknown_data = format_data_for_prompt(testing_data.head(40))\n",
    "prompt += f\"Below are 40 rows of unknown data.  Find any anomalies in this data.\\n\\n{unknown_data}\\n\\n\"\n",
    "prompt += \"Output the anomalous rows as a python object.\"\n",
    "\n",
    "print(prompt)"
   ],
   "outputs": [
    {
     "name": "stdout",
     "output_type": "stream",
     "text": [
      "The following contains 50 lines representing normal CPU timeseries data.\n",
      "Timestamp: 2017-01-27 22:14:00, cpu: 0.68\n",
      "Timestamp: 2017-01-27 22:11:00, cpu: 0.73\n",
      "Timestamp: 2017-01-27 19:41:00, cpu: 0.67\n",
      "Timestamp: 2017-01-27 19:56:00, cpu: 0.84\n",
      "Timestamp: 2017-01-28 01:27:00, cpu: 1.88\n",
      "Timestamp: 2017-01-27 19:17:00, cpu: 0.71\n",
      "Timestamp: 2017-01-27 23:01:00, cpu: 1.65\n",
      "Timestamp: 2017-01-27 22:46:00, cpu: 2.05\n",
      "Timestamp: 2017-01-27 23:46:00, cpu: 1.23\n",
      "Timestamp: 2017-01-28 01:02:00, cpu: 2.13\n",
      "Timestamp: 2017-01-28 01:06:00, cpu: 1.92\n",
      "Timestamp: 2017-01-27 20:44:00, cpu: 1.41\n",
      "Timestamp: 2017-01-28 02:28:00, cpu: 0.88\n",
      "Timestamp: 2017-01-28 01:26:00, cpu: 2.07\n",
      "Timestamp: 2017-01-28 01:30:00, cpu: 2.19\n",
      "Timestamp: 2017-01-27 19:23:00, cpu: 0.64\n",
      "Timestamp: 2017-01-27 19:39:00, cpu: 0.58\n",
      "Timestamp: 2017-01-27 23:35:00, cpu: 1.28\n",
      "Timestamp: 2017-01-27 20:25:00, cpu: 1.75\n",
      "Timestamp: 2017-01-28 00:16:00, cpu: 0.75\n",
      "Timestamp: 2017-01-27 23:09:00, cpu: 1.5\n",
      "Timestamp: 2017-01-28 03:02:00, cpu: 1.02\n",
      "Timestamp: 2017-01-28 00:54:00, cpu: 1.87\n",
      "Timestamp: 2017-01-28 00:05:00, cpu: 0.84\n",
      "Timestamp: 2017-01-27 22:17:00, cpu: 0.76\n",
      "Timestamp: 2017-01-28 00:04:00, cpu: 0.84\n",
      "Timestamp: 2017-01-27 20:55:00, cpu: 1.11\n",
      "Timestamp: 2017-01-28 01:07:00, cpu: 2.15\n",
      "Timestamp: 2017-01-28 00:21:00, cpu: 0.68\n",
      "Timestamp: 2017-01-28 01:23:00, cpu: 2.26\n",
      "Timestamp: 2017-01-27 20:36:00, cpu: 1.68\n",
      "Timestamp: 2017-01-28 04:31:00, cpu: 1.59\n",
      "Timestamp: 2017-01-28 01:10:00, cpu: 1.93\n",
      "Timestamp: 2017-01-28 01:18:00, cpu: 2.1\n",
      "Timestamp: 2017-01-27 22:43:00, cpu: 1.72\n",
      "Timestamp: 2017-01-27 20:09:00, cpu: 2.03\n",
      "Timestamp: 2017-01-27 22:20:00, cpu: 0.82\n",
      "Timestamp: 2017-01-27 20:58:00, cpu: 1.53\n",
      "Timestamp: 2017-01-27 19:26:00, cpu: 0.67\n",
      "Timestamp: 2017-01-28 02:32:00, cpu: 0.82\n",
      "Timestamp: 2017-01-28 00:06:00, cpu: 0.95\n",
      "Timestamp: 2017-01-28 00:07:00, cpu: 0.88\n",
      "Timestamp: 2017-01-27 23:14:00, cpu: 1.31\n",
      "Timestamp: 2017-01-27 21:14:00, cpu: 1.08\n",
      "Timestamp: 2017-01-27 18:52:00, cpu: 1.04\n",
      "Timestamp: 2017-01-28 01:56:00, cpu: 1.56\n",
      "Timestamp: 2017-01-28 00:26:00, cpu: 0.77\n",
      "Timestamp: 2017-01-28 00:56:00, cpu: 2.45\n",
      "Timestamp: 2017-01-27 22:31:00, cpu: 1.36\n",
      "Timestamp: 2017-01-28 03:32:00, cpu: 1.75\n",
      "\n",
      "Below are 40 rows of unknown data.  Find any anomalies in this data.\n",
      "\n",
      "Timestamp: 2017-01-28 04:42:00, cpu: 1.71\n",
      "Timestamp: 2017-01-28 04:43:00, cpu: 1.58\n",
      "Timestamp: 2017-01-28 04:44:00, cpu: 1.86\n",
      "Timestamp: 2017-01-28 04:45:00, cpu: 1.66\n",
      "Timestamp: 2017-01-28 04:46:00, cpu: 1.61\n",
      "Timestamp: 2017-01-28 04:47:00, cpu: 1.52\n",
      "Timestamp: 2017-01-28 04:48:00, cpu: 1.43\n",
      "Timestamp: 2017-01-28 04:49:00, cpu: 1.34\n",
      "Timestamp: 2017-01-28 04:50:00, cpu: 1.3\n",
      "Timestamp: 2017-01-28 04:51:00, cpu: 1.62\n",
      "Timestamp: 2017-01-28 04:52:00, cpu: 1.53\n",
      "Timestamp: 2017-01-28 04:53:00, cpu: 0.04\n",
      "Timestamp: 2017-01-28 04:54:00, cpu: 0.07\n",
      "Timestamp: 2017-01-28 04:55:00, cpu: 0.03\n",
      "Timestamp: 2017-01-28 04:56:00, cpu: 0.07\n",
      "Timestamp: 2017-01-28 04:57:00, cpu: 0.03\n",
      "Timestamp: 2017-01-28 04:58:00, cpu: 0.04\n",
      "Timestamp: 2017-01-28 04:59:00, cpu: 0.06\n",
      "Timestamp: 2017-01-28 05:00:00, cpu: 0.05\n",
      "Timestamp: 2017-01-28 05:01:00, cpu: 0.07\n",
      "Timestamp: 2017-01-28 05:02:00, cpu: 0.09\n",
      "Timestamp: 2017-01-28 05:03:00, cpu: 0.04\n",
      "Timestamp: 2017-01-28 05:04:00, cpu: 0.07\n",
      "Timestamp: 2017-01-28 05:05:00, cpu: 0.03\n",
      "Timestamp: 2017-01-28 05:06:00, cpu: 0.05\n",
      "Timestamp: 2017-01-28 05:07:00, cpu: 0.05\n",
      "Timestamp: 2017-01-28 05:08:00, cpu: 0.05\n",
      "Timestamp: 2017-01-28 05:09:00, cpu: 0.03\n",
      "Timestamp: 2017-01-28 05:10:00, cpu: 0.07\n",
      "Timestamp: 2017-01-28 05:11:00, cpu: 0.06\n",
      "Timestamp: 2017-01-28 05:12:00, cpu: 1.1\n",
      "Timestamp: 2017-01-28 05:13:00, cpu: 2.13\n",
      "Timestamp: 2017-01-28 05:14:00, cpu: 2.83\n",
      "Timestamp: 2017-01-28 05:15:00, cpu: 2.44\n",
      "Timestamp: 2017-01-28 05:16:00, cpu: 2.15\n",
      "Timestamp: 2017-01-28 05:17:00, cpu: 2.05\n",
      "Timestamp: 2017-01-28 05:18:00, cpu: 1.92\n",
      "Timestamp: 2017-01-28 05:19:00, cpu: 2.17\n",
      "Timestamp: 2017-01-28 05:20:00, cpu: 2.02\n",
      "Timestamp: 2017-01-28 05:21:00, cpu: 1.6\n",
      "\n",
      "\n",
      "Output the anomalous rows as a python object.\n"
     ]
    }
   ],
   "execution_count": 8
  },
  {
   "cell_type": "markdown",
   "id": "04a0d98f",
   "metadata": {},
   "source": [
    "## Step 4:  Call the LLM\n",
    "The next step is to actually call the LLM using the prompt you have generated.  We have provided a convenience function below to actually make the call.\n",
    "\n",
    "For this step, make the call, and you will have to clean up the response so that you just get the actual response. \n",
    "\n",
    "### Note About Model Choice: \n",
    "In our experiments developing this lab, we found that the model `text-davinci-003` worked the best for this use case.  Unfortunately, OpenAI is deprecating this model as well as the completetions interface. "
   ]
  },
  {
   "cell_type": "code",
   "id": "9c8fc2c7",
   "metadata": {
    "ExecuteTime": {
     "end_time": "2025-07-20T21:25:17.841753Z",
     "start_time": "2025-07-20T21:25:17.837577Z"
    }
   },
   "source": [
    "def make_openai_call(prompt: str):\n",
    "    client = OpenAI(api_key=os.getenv(\"OPENAI_KEY\"))\n",
    "    result = client.responses.create(\n",
    "        model=\"gpt-4.1-nano\",\n",
    "        input=prompt\n",
    "    )\n",
    "    return result\n",
    "\n",
    "def clean_results(response):\n",
    "    raw_response = response['choices'][0]['text'].strip()\n",
    "    raw_response = raw_response.replace(\"Anomalous Rows: \\n\", \"\")\n",
    "    return json.dumps(ast.literal_eval(raw_response))"
   ],
   "outputs": [],
   "execution_count": 12
  },
  {
   "cell_type": "code",
   "id": "3df38eef",
   "metadata": {
    "ExecuteTime": {
     "end_time": "2025-07-20T21:25:22.778981Z",
     "start_time": "2025-07-20T21:25:18.751850Z"
    }
   },
   "source": [
    "response = make_openai_call(prompt)"
   ],
   "outputs": [],
   "execution_count": 13
  },
  {
   "cell_type": "code",
   "id": "821f31d4",
   "metadata": {
    "ExecuteTime": {
     "end_time": "2025-07-20T21:25:24.125443Z",
     "start_time": "2025-07-20T21:25:24.122672Z"
    }
   },
   "source": "print(response)",
   "outputs": [
    {
     "name": "stdout",
     "output_type": "stream",
     "text": [
      "Response(id='resp_687d5ebf14cc819bb6e1a18cfb4148890a72513a6ac30836', created_at=1753046719.0, error=None, incomplete_details=None, instructions=None, metadata={}, model='gpt-4.1-nano-2025-04-14', object='response', output=[ResponseOutputMessage(id='msg_687d5ebf7aa0819b8f1ef0dc55dd0e950a72513a6ac30836', content=[ResponseOutputText(annotations=[], text='The anomalies in the unknown data appear to be the rows where the CPU usage drops drastically to very low values (~0.03 to 0.07), which is an unusual pattern compared to the preceding and following high CPU values (~1.1 to 2.83). Specifically, these rows are likely anomalies:\\n\\n- Timestamp: 2017-01-28 04:53:00, cpu: 0.04\\n- Timestamp: 2017-01-28 04:54:00, cpu: 0.07\\n- Timestamp: 2017-01-28 04:55:00, cpu: 0.03\\n- Timestamp: 2017-01-28 04:56:00, cpu: 0.07\\n- Timestamp: 2017-01-28 04:57:00, cpu: 0.03\\n- Timestamp: 2017-01-28 04:58:00, cpu: 0.04\\n- Timestamp: 2017-01-28 04:59:00, cpu: 0.06\\n- Timestamp: 2017-01-28 05:00:00, cpu: 0.05\\n- Timestamp: 2017-01-28 05:01:00, cpu: 0.07\\n- Timestamp: 2017-01-28 05:02:00, cpu: 0.09\\n- Timestamp: 2017-01-28 05:03:00, cpu: 0.04\\n- Timestamp: 2017-01-28 05:04:00, cpu: 0.07\\n- Timestamp: 2017-01-28 05:05:00, cpu: 0.03\\n\\nHere is the Python object with these anomalies listed:\\n\\n```python\\nanomalies = [\\n    {\"Timestamp\": \"2017-01-28 04:53:00\", \"cpu\": 0.04},\\n    {\"Timestamp\": \"2017-01-28 04:54:00\", \"cpu\": 0.07},\\n    {\"Timestamp\": \"2017-01-28 04:55:00\", \"cpu\": 0.03},\\n    {\"Timestamp\": \"2017-01-28 04:56:00\", \"cpu\": 0.07},\\n    {\"Timestamp\": \"2017-01-28 04:57:00\", \"cpu\": 0.03},\\n    {\"Timestamp\": \"2017-01-28 04:58:00\", \"cpu\": 0.04},\\n    {\"Timestamp\": \"2017-01-28 04:59:00\", \"cpu\": 0.06},\\n    {\"Timestamp\": \"2017-01-28 05:00:00\", \"cpu\": 0.05},\\n    {\"Timestamp\": \"2017-01-28 05:01:00\", \"cpu\": 0.07},\\n    {\"Timestamp\": \"2017-01-28 05:02:00\", \"cpu\": 0.09},\\n    {\"Timestamp\": \"2017-01-28 05:03:00\", \"cpu\": 0.04},\\n    {\"Timestamp\": \"2017-01-28 05:04:00\", \"cpu\": 0.07},\\n    {\"Timestamp\": \"2017-01-28 05:05:00\", \"cpu\": 0.03}\\n]\\n```', type='output_text', logprobs=[])], role='assistant', status='completed', type='message')], parallel_tool_calls=True, temperature=1.0, tool_choice='auto', tools=[], top_p=1.0, max_output_tokens=None, previous_response_id=None, reasoning=Reasoning(effort=None, generate_summary=None, summary=None), service_tier='default', status='completed', text=ResponseTextConfig(format=ResponseFormatText(type='text')), truncation='disabled', usage=ResponseUsage(input_tokens=2117, input_tokens_details=InputTokensDetails(cached_tokens=0), output_tokens=734, output_tokens_details=OutputTokensDetails(reasoning_tokens=0), total_tokens=2851), user=None, background=False, max_tool_calls=None, prompt_cache_key=None, safety_identifier=None, store=True, top_logprobs=0)\n"
     ]
    }
   ],
   "execution_count": 14
  },
  {
   "cell_type": "markdown",
   "id": "4772d60c",
   "metadata": {},
   "source": [
    "## Final Thoughts\n",
    "How did the LLM do in identifying anomalous entries in your time series?\n",
    "\n",
    "It is interesting to see that if you ask the LLM for a description, the LLM is also capable of telling you why the data point is anomalous. This could be interesting to try this with log entries to identify unusual behavior. \n",
    "\n",
    "The obvious concerns are security and cost."
   ]
  },
  {
   "cell_type": "code",
   "execution_count": null,
   "id": "035e4340",
   "metadata": {},
   "outputs": [],
   "source": []
  }
 ],
 "metadata": {
  "kernelspec": {
   "display_name": "Python [conda env:base] *",
   "language": "python",
   "name": "conda-base-py"
  },
  "language_info": {
   "codemirror_mode": {
    "name": "ipython",
    "version": 3
   },
   "file_extension": ".py",
   "mimetype": "text/x-python",
   "name": "python",
   "nbconvert_exporter": "python",
   "pygments_lexer": "ipython3",
   "version": "3.9.17"
  },
  "varInspector": {
   "cols": {
    "lenName": 16,
    "lenType": 16,
    "lenVar": 40
   },
   "kernels_config": {
    "python": {
     "delete_cmd_postfix": "",
     "delete_cmd_prefix": "del ",
     "library": "var_list.py",
     "varRefreshCmd": "print(var_dic_list())"
    },
    "r": {
     "delete_cmd_postfix": ") ",
     "delete_cmd_prefix": "rm(",
     "library": "var_list.r",
     "varRefreshCmd": "cat(var_dic_list()) "
    }
   },
   "types_to_exclude": [
    "module",
    "function",
    "builtin_function_or_method",
    "instance",
    "_Feature"
   ],
   "window_display": false
  }
 },
 "nbformat": 4,
 "nbformat_minor": 5
}
