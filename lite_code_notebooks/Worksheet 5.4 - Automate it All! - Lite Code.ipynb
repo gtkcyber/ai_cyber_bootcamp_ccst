{
 "cells": [
  {
   "cell_type": "markdown",
   "metadata": {},
   "source": [
    "<img src=\"../img/GTK_Logo_Social Icon.jpg\" width=175 align=\"right\" />\n",
    "\n",
    "#  Worksheet 5.4: Automate it All! - Lite Code\n",
    "This worksheet covers concepts relating to automating a machine learning model using the techniques we learned.  It should take no more than 20-30 minutes to complete.  Please raise your hand if you get stuck.  "
   ]
  },
  {
   "cell_type": "code",
   "metadata": {},
   "source": [
    "# Load Libraries - Make sure to run this cell!\n",
    "import pandas as pd\n",
    "from sklearn.model_selection import train_test_split\n",
    "from sklearn.metrics import classification_report, ConfusionMatrixDisplay\n",
    "from tpot import TPOTClassifier"
   ],
   "outputs": [],
   "execution_count": null
  },
  {
   "cell_type": "markdown",
   "metadata": {},
   "source": [
    "## Step One:  Import the Data\n",
    "In this example, we're going to use the dataset we used in worksheet 5.3.  Run the following code to read in the data, extract the features and target vector."
   ]
  },
  {
   "cell_type": "code",
   "metadata": {},
   "source": [
    "df = pd.read_csv('../data/dga_features_final_df.csv')\n",
    "target = df['isDGA']\n",
    "feature_matrix = df.drop(['isDGA'], axis=1)"
   ],
   "outputs": [],
   "execution_count": null
  },
  {
   "cell_type": "markdown",
   "metadata": {},
   "source": [
    "Next, perform the test/train split in the conventional manner."
   ]
  },
  {
   "cell_type": "code",
   "metadata": {},
   "source": "feature_matrix_train, feature_matrix_test, target_train, target_test = # Your code here..",
   "outputs": [],
   "execution_count": null
  },
  {
   "cell_type": "markdown",
   "metadata": {},
   "source": [
    "## Step Two:  Run the Optimizer\n",
    "In the next step, use TPOT to create a classification pipeline using the DGA data set that we have been using.  The `TPOTClassifier()` has many configuration options and in the interest of time, please set the following variables when you instantiate the classifier.\n",
    "\n",
    "* `max_time_mins`:  In the interests of time, set this to some number < 5.\n",
    "* `max_eval_time_mins`:  This is another time limiting parameter which controls the amount of time for each iteration.  Default is 60*5.\n",
    "* `n_jobs`:  The number of cores to use.\n",
    "\n",
    "\n",
    "**Note:  This step will take some time, so you might want to get some coffee or a snack when it is running.**  While this is running take a look at the other configuration options available here: https://epistasislab.github.io/tpot/latest/."
   ]
  },
  {
   "cell_type": "code",
   "metadata": {},
   "source": [
    "# Your code here... \n",
    "clf = # Creat the TPotClassifier\n",
    "clf.fit(feature_matrix_train, target_train)"
   ],
   "outputs": [],
   "execution_count": null
  },
  {
   "cell_type": "markdown",
   "metadata": {},
   "source": [
    "ConfusionMatrixDisplay.from_predictions(target_test, predictions)## Step Three:  Evaluate the Performance\n",
    "Now that you have a trained model, the next step is to evaluate the performance and see how TPOT did in comparison with earlier models we created.  Use the techniques you've learned to evaluate the performance of your model.  Specifically, print out the `classification report` and a confusion matrix. \n",
    "\n",
    "Unfortunately, Yellowbrick will not work in this instance, however, you can generate a similar visual confusion matrix with the following code:\n",
    "\n",
    "```\n",
    "from sklearn.metrics import ConfusionMatrixDisplayt\n",
    "ConfusionMatrixDisplay.from_predictions(target_test, predictions)\n",
    "\n",
    "```\n",
    "\n",
    "What is the accuracy of your model?  Is it significantly better than what you did in earlier labs?"
   ]
  },
  {
   "cell_type": "code",
   "metadata": {},
   "source": "predictions = clf.predict( # Testing Features)",
   "outputs": [],
   "execution_count": null
  },
  {
   "cell_type": "code",
   "metadata": {},
   "source": "print(classification_report(# Testing target and predictions))",
   "outputs": [],
   "execution_count": null
  },
  {
   "metadata": {},
   "cell_type": "code",
   "source": "ConfusionMatrixDisplay.from_predictions(# Testing target and predictions)",
   "outputs": [],
   "execution_count": null
  },
  {
   "cell_type": "markdown",
   "metadata": {},
   "source": [
    "## Step 4:  Export your Pipeline\n",
    "If you are happy with the results from `TPOT` you can export the pipeline as a pickle with the code below:\n",
    "\n",
    "```python\n",
    "best_pipeline = clf.fitted_pipeline_\n",
    "\n",
    "# Make predictions\n",
    "best_pipeline.predict(data)\n",
    "\n",
    "# Save the pipeline\n",
    "with open(\"best_pipeline.pkl\", \"wb\") as f:\n",
    "    pickle.dump(best_pipeline, f)\n",
    "\n",
    "# Load the pipeline\n",
    "with open(\"best_pipeline.pkl\", \"rb\") as f:\n",
    "    my_loaded_best_pipeline = pickle.load(f)\n",
    "```\n"
   ]
  },
  {
   "cell_type": "code",
   "metadata": {},
   "source": "# Your code here...",
   "outputs": [],
   "execution_count": null
  }
 ],
 "metadata": {
  "kernelspec": {
   "display_name": "Python [conda env:base] *",
   "language": "python",
   "name": "conda-base-py"
  },
  "language_info": {
   "codemirror_mode": {
    "name": "ipython",
    "version": 3
   },
   "file_extension": ".py",
   "mimetype": "text/x-python",
   "name": "python",
   "nbconvert_exporter": "python",
   "pygments_lexer": "ipython3",
   "version": "3.11.7"
  },
  "varInspector": {
   "cols": {
    "lenName": 16,
    "lenType": 16,
    "lenVar": 40
   },
   "kernels_config": {
    "python": {
     "delete_cmd_postfix": "",
     "delete_cmd_prefix": "del ",
     "library": "var_list.py",
     "varRefreshCmd": "print(var_dic_list())"
    },
    "r": {
     "delete_cmd_postfix": ") ",
     "delete_cmd_prefix": "rm(",
     "library": "var_list.r",
     "varRefreshCmd": "cat(var_dic_list()) "
    }
   },
   "types_to_exclude": [
    "module",
    "function",
    "builtin_function_or_method",
    "instance",
    "_Feature"
   ],
   "window_display": false
  }
 },
 "nbformat": 4,
 "nbformat_minor": 4
}
