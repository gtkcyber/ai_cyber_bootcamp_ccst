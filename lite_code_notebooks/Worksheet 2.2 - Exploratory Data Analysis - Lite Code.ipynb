{
 "cells": [
  {
   "cell_type": "markdown",
   "metadata": {},
   "source": [
    "<img src=\"../img/GTK_Logo_Social Icon.jpg\" width=175 align=\"right\" />\n",
    "\n",
    "# Worksheet 2.2 - Exploratory Data Analysis (EDA) - Lite Code\n",
    "\n",
    "\n",
    "First you're going to want to create a data frame from the `dailybots.csv` file which can be found in the `data` directory.  You should be able to do this with the `pd.read_csv()` function.  Take a minute to look at the dataframe because we are going to be using it for this entire worksheet.\n",
    "\n",
    "### Data Location:\n",
    "The data location is set by default to the `data/` folder in the repo root directory.  If you have it elsewhere, you will have to modify the `DATA_HOME` variable."
   ]
  },
  {
   "cell_type": "code",
   "execution_count": 1,
   "metadata": {
    "ExecuteTime": {
     "end_time": "2025-07-11T15:29:47.271013Z",
     "start_time": "2025-07-11T15:29:46.724196Z"
    }
   },
   "outputs": [],
   "source": [
    "import pandas as pd"
   ]
  },
  {
   "cell_type": "code",
   "execution_count": 2,
   "metadata": {
    "ExecuteTime": {
     "end_time": "2025-07-11T15:29:47.852741Z",
     "start_time": "2025-07-11T15:29:47.835981Z"
    }
   },
   "outputs": [
    {
     "data": {
      "text/html": [
       "<div>\n",
       "<style scoped>\n",
       "    .dataframe tbody tr th:only-of-type {\n",
       "        vertical-align: middle;\n",
       "    }\n",
       "\n",
       "    .dataframe tbody tr th {\n",
       "        vertical-align: top;\n",
       "    }\n",
       "\n",
       "    .dataframe thead th {\n",
       "        text-align: right;\n",
       "    }\n",
       "</style>\n",
       "<table border=\"1\" class=\"dataframe\">\n",
       "  <thead>\n",
       "    <tr style=\"text-align: right;\">\n",
       "      <th></th>\n",
       "      <th>hosts</th>\n",
       "      <th>orgs</th>\n",
       "    </tr>\n",
       "  </thead>\n",
       "  <tbody>\n",
       "    <tr>\n",
       "      <th>count</th>\n",
       "      <td>4969.000000</td>\n",
       "      <td>4969.00000</td>\n",
       "    </tr>\n",
       "    <tr>\n",
       "      <th>mean</th>\n",
       "      <td>142.308110</td>\n",
       "      <td>15.31133</td>\n",
       "    </tr>\n",
       "    <tr>\n",
       "      <th>std</th>\n",
       "      <td>240.955294</td>\n",
       "      <td>21.15150</td>\n",
       "    </tr>\n",
       "    <tr>\n",
       "      <th>min</th>\n",
       "      <td>1.000000</td>\n",
       "      <td>1.00000</td>\n",
       "    </tr>\n",
       "    <tr>\n",
       "      <th>25%</th>\n",
       "      <td>10.000000</td>\n",
       "      <td>3.00000</td>\n",
       "    </tr>\n",
       "    <tr>\n",
       "      <th>50%</th>\n",
       "      <td>38.000000</td>\n",
       "      <td>7.00000</td>\n",
       "    </tr>\n",
       "    <tr>\n",
       "      <th>75%</th>\n",
       "      <td>187.000000</td>\n",
       "      <td>16.00000</td>\n",
       "    </tr>\n",
       "    <tr>\n",
       "      <th>max</th>\n",
       "      <td>2031.000000</td>\n",
       "      <td>122.00000</td>\n",
       "    </tr>\n",
       "  </tbody>\n",
       "</table>\n",
       "</div>"
      ],
      "text/plain": [
       "             hosts        orgs\n",
       "count  4969.000000  4969.00000\n",
       "mean    142.308110    15.31133\n",
       "std     240.955294    21.15150\n",
       "min       1.000000     1.00000\n",
       "25%      10.000000     3.00000\n",
       "50%      38.000000     7.00000\n",
       "75%     187.000000    16.00000\n",
       "max    2031.000000   122.00000"
      ]
     },
     "execution_count": 2,
     "metadata": {},
     "output_type": "execute_result"
    }
   ],
   "source": [
    "DATA_HOME = '../data'\n",
    "data = pd.read_csv(f'{DATA_HOME}/dailybots.csv')\n",
    "#Look at a summary of the data\n",
    "data.describe()"
   ]
  },
  {
   "cell_type": "code",
   "execution_count": 3,
   "metadata": {
    "ExecuteTime": {
     "end_time": "2025-07-11T15:41:39.037254Z",
     "start_time": "2025-07-11T15:41:39.033121Z"
    }
   },
   "outputs": [
    {
     "data": {
      "text/plain": [
       "botfam\n",
       "ConfickerAB    540\n",
       "Ramnit         540\n",
       "Sality         540\n",
       "Zeus           540\n",
       "zeroaccess     538\n",
       "Bedep          535\n",
       "Necurs         511\n",
       "Zusy           498\n",
       "PushDo         418\n",
       "Olmasco        309\n",
       "Name: count, dtype: int64"
      ]
     },
     "execution_count": 3,
     "metadata": {},
     "output_type": "execute_result"
    }
   ],
   "source": [
    "data['botfam'].value_counts()"
   ]
  },
  {
   "cell_type": "markdown",
   "metadata": {},
   "source": [
    "## Exercise 1: Which industry sees the most Ramnit infections? Least?\n",
    "\n",
    "Count the number of infected days for \"Ramnit\" in each industry industry. \n",
    "How: \n",
    "1.  First filter the data to remove all the infections we don't care about\n",
    "2.  Aggregate the data on the column of interest. HINT:  You might want to use the `groupby()` function\n",
    "3.  Add up the results "
   ]
  },
  {
   "cell_type": "code",
   "execution_count": null,
   "metadata": {
    "scrolled": true
   },
   "outputs": [],
   "source": [
    "grouped_df = data[<COLUMNS YOU WANT IN OUTPUT>][<YOUR FILTER LOGIC HERE> ].groupby([<AGGREGATE COLUMN>], as_index=False)\n",
    "\n",
    "# Now sum it all up...\n",
    "grouped_df."
   ]
  },
  {
   "cell_type": "markdown",
   "metadata": {},
   "source": [
    "# Exercise 2: Calculate the min, max, median and mean infected orgs for each bot family, sort by median\n",
    "In this exercise, you are asked to calculate the min, max, median and mean of infected orgs for each bot family sorted by median.  HINT:\n",
    "1.  Using the `groupby()` function, create a grouped data frame\n",
    "2.  You can do this one metric at a time OR you can use the .agg() function. You might want to refer to the documentation here:  http://pandas.pydata.org/pandas-docs/stable/groupby.html#applying-multiple-functions-at-once\n",
    "3.  Sort the values (HINT HINT) by the median column"
   ]
  },
  {
   "cell_type": "code",
   "execution_count": null,
   "metadata": {},
   "outputs": [],
   "source": [
    "group2 = data[[<DESIRED COLUMNS>]].groupby( [<AGGREGATE COLUMN>], as_index=False)\n",
    "summary = group2.agg([<FUNCTION NAMES>])\n",
    "summary.sort_values( [('orgs', 'median')], ascending=??)"
   ]
  },
  {
   "cell_type": "markdown",
   "metadata": {},
   "source": [
    "# Exercise 3: Which date had the total most bot infections and how many infections on that day?\n",
    "In this exercise you are asked to aggregate and sum the number of infections (hosts) by date.  Once you've done that, the next step is to sort in descending order. \n"
   ]
  },
  {
   "cell_type": "code",
   "execution_count": null,
   "metadata": {},
   "outputs": [],
   "source": [
    "df3 = data[[<DESIRED COLUMNS>]].groupby(<AGGREGATE COLUMN>).sum()\n",
    "df3.sort_values(by='<SORT COLUMN', ascending=??).head(10)"
   ]
  }
 ],
 "metadata": {
  "anaconda-cloud": {},
  "kernelspec": {
   "display_name": "Python 3 (ipykernel)",
   "language": "python",
   "name": "python3"
  },
  "language_info": {
   "codemirror_mode": {
    "name": "ipython",
    "version": 3
   },
   "file_extension": ".py",
   "mimetype": "text/x-python",
   "name": "python",
   "nbconvert_exporter": "python",
   "pygments_lexer": "ipython3",
   "version": "3.11.13"
  },
  "varInspector": {
   "cols": {
    "lenName": 16,
    "lenType": 16,
    "lenVar": 40
   },
   "kernels_config": {
    "python": {
     "delete_cmd_postfix": "",
     "delete_cmd_prefix": "del ",
     "library": "var_list.py",
     "varRefreshCmd": "print(var_dic_list())"
    },
    "r": {
     "delete_cmd_postfix": ") ",
     "delete_cmd_prefix": "rm(",
     "library": "var_list.r",
     "varRefreshCmd": "cat(var_dic_list()) "
    }
   },
   "types_to_exclude": [
    "module",
    "function",
    "builtin_function_or_method",
    "instance",
    "_Feature"
   ],
   "window_display": false
  },
  "widgets": {
   "application/vnd.jupyter.widget-state+json": {
    "state": {},
    "version_major": 2,
    "version_minor": 0
   }
  }
 },
 "nbformat": 4,
 "nbformat_minor": 4
}
